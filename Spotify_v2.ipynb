{
  "cells": [
    {
      "cell_type": "markdown",
      "source": [
        "# My Spotify Analysis\n",
        "\n",
        "---\n",
        "\n",
        "\n",
        "### Exploratory Data Analysis Project\n",
        "Data Preparation and Cleaning, Exploratory Data Analysis, Data Visualization, Classification.\n",
        "Analyzed my Spotify Usage and History by using several tools such as Jupyter Notebook, Python and Python Libraries such as numpy, pandas, matplotlib, seaborn."
      ],
      "metadata": {
        "id": "P2VI5bs8qm1I"
      },
      "id": "P2VI5bs8qm1I"
    },
    {
      "cell_type": "code",
      "source": [
        "from google.colab import drive\n",
        "drive.mount('/content/drive')"
      ],
      "metadata": {
        "id": "SIK5eN9TrBkd",
        "colab": {
          "base_uri": "https://localhost:8080/"
        },
        "outputId": "7152ee16-8437-4e28-9583-324bc4fd77cc"
      },
      "id": "SIK5eN9TrBkd",
      "execution_count": null,
      "outputs": [
        {
          "output_type": "stream",
          "name": "stdout",
          "text": [
            "Drive already mounted at /content/drive; to attempt to forcibly remount, call drive.mount(\"/content/drive\", force_remount=True).\n"
          ]
        }
      ]
    },
    {
      "cell_type": "code",
      "execution_count": null,
      "id": "a65e3d32",
      "metadata": {
        "colab": {
          "base_uri": "https://localhost:8080/"
        },
        "id": "a65e3d32",
        "outputId": "16e59b4f-f91b-4a65-a4c3-4b4e066ecad3"
      },
      "outputs": [
        {
          "output_type": "stream",
          "name": "stdout",
          "text": [
            "\u001b[?25l\r\u001b[K     |████▊                           | 10 kB 19.6 MB/s eta 0:00:01\r\u001b[K     |█████████▌                      | 20 kB 13.0 MB/s eta 0:00:01\r\u001b[K     |██████████████▎                 | 30 kB 10.1 MB/s eta 0:00:01\r\u001b[K     |███████████████████             | 40 kB 7.3 MB/s eta 0:00:01\r\u001b[K     |███████████████████████▉        | 51 kB 4.4 MB/s eta 0:00:01\r\u001b[K     |████████████████████████████▋   | 61 kB 5.2 MB/s eta 0:00:01\r\u001b[K     |████████████████████████████████| 68 kB 3.1 MB/s \n",
            "\u001b[?25h  Building wheel for uuid (setup.py) ... \u001b[?25l\u001b[?25hdone\n"
          ]
        }
      ],
      "source": [
        "# Jovian Commit Essentials\n",
        "# Please retain and execute this cell without modifying the contents for `jovian.commit` to work\n",
        "!pip install jovian --upgrade -q\n",
        "import jovian\n",
        "jovian.set_project('my-spotify-analysis')\n",
        "jovian.set_colab_id('1hq_UFsy5RZ6vZPY0Ikl2bmJ99AYIuzub')"
      ]
    },
    {
      "cell_type": "code",
      "execution_count": null,
      "id": "584986cc",
      "metadata": {
        "id": "584986cc"
      },
      "outputs": [],
      "source": [
        "#!pip install pandas numpy matplotlib seaborn wordcloud jovian --upgrade --q"
      ]
    },
    {
      "cell_type": "code",
      "execution_count": null,
      "id": "360147fe",
      "metadata": {
        "id": "360147fe"
      },
      "outputs": [],
      "source": [
        "%matplotlib inline\n",
        "import pandas as pd # Import for Pandas\n",
        "import numpy as np # Import for Numpy\n",
        "import matplotlib # Import for Matplotlib\n",
        "import matplotlib.pyplot as plt # Import for Matplotlib Pyplot\n",
        "import seaborn as sns # Import for Seaborn\n",
        "#from wordcloud import WordCloud # Import for Word Cloud"
      ]
    },
    {
      "cell_type": "code",
      "execution_count": null,
      "id": "f4d59db3",
      "metadata": {
        "scrolled": true,
        "id": "f4d59db3"
      },
      "outputs": [],
      "source": [
        "# read your StreamingHistory files into pandas dataframes\n",
        "df_stream0 = pd.read_json('/content/StreamingHistory0.json')\n",
        "df_stream1 = pd.read_json('/content/StreamingHistory1.json')\n",
        "df_stream2 = pd.read_json('/content/StreamingHistory2.json')\n",
        "df_stream3 = pd.read_json('/content/StreamingHistory3.json')\n",
        "df_stream4 = pd.read_json('/content/StreamingHistory4.json')\n",
        "\n",
        "# merge streaming dataframes\n",
        "df = pd.concat([df_stream0, df_stream1, df_stream2, df_stream3, df_stream4])\n",
        "\n",
        "#create a 'UniqueID' for each song by combining the fields 'artistName' and 'trackName'\n",
        "df['UniqueID'] = df['artistName'] + \":\" + df['trackName']\n",
        "\n",
        "#df.to_csv(\"spotify_data.csv\") # To save csv data\n",
        "\n",
        "# df.describe(include=\"all\")"
      ]
    },
    {
      "cell_type": "code",
      "execution_count": null,
      "id": "e8a04121",
      "metadata": {
        "scrolled": true,
        "id": "e8a04121"
      },
      "outputs": [],
      "source": [
        "#plt.pyplot.hist(df[\"artistName\"])\n",
        "\n",
        "# set x/y labels and plot title\n",
        "#plt.pyplot.xlabel(\"artistName\")\n",
        "#plt.pyplot.ylabel(\"count\")\n",
        "#plt.pyplot.title(\"Singers\")\n",
        "#plt.pyplot.xticks(rotation=90)"
      ]
    },
    {
      "cell_type": "code",
      "execution_count": null,
      "id": "cb01754e",
      "metadata": {
        "scrolled": true,
        "id": "cb01754e"
      },
      "outputs": [],
      "source": [
        "#df['UniqueID'].value_counts()"
      ]
    },
    {
      "cell_type": "code",
      "execution_count": null,
      "id": "119794c7",
      "metadata": {
        "colab": {
          "base_uri": "https://localhost:8080/",
          "height": 641
        },
        "id": "119794c7",
        "outputId": "1026246e-90cd-418d-b79d-812612e50900"
      },
      "outputs": [
        {
          "output_type": "execute_result",
          "data": {
            "text/plain": [
              "       S.no           endTime        artistName  \\\n",
              "0         0  2020-10-01 19:37       Madan Mohan   \n",
              "1         1  2020-10-02 04:03            Ruelle   \n",
              "2         2  2020-10-02 04:06      James Arthur   \n",
              "3         3  2020-10-02 04:09         Bryce Fox   \n",
              "4         4  2020-10-02 04:11      Molly Sandén   \n",
              "...     ...               ...               ...   \n",
              "3335  43335  2021-10-02 21:04    Tommee Profitt   \n",
              "3336  43336  2021-10-02 21:10      Taylor Swift   \n",
              "3337  43337  2021-10-02 21:10      Hannah Ellis   \n",
              "3338  43338  2021-10-02 21:10      Hannah Ellis   \n",
              "3339  43339  2021-10-02 21:10  Chord Overstreet   \n",
              "\n",
              "                                   trackName  msPlayed  \\\n",
              "0                                  Tere Liye     10340   \n",
              "1                           Secrets and Lies      8645   \n",
              "2                                 Impossible    209440   \n",
              "3                                      Horns    159079   \n",
              "4                                    Phoenix    121187   \n",
              "...                                      ...       ...   \n",
              "3335                               Hurricane    376952   \n",
              "3336                                  willow     15855   \n",
              "3337  You Were Never Gone (From \"Teen Wolf\")      3534   \n",
              "3338  You Were Never Gone (From \"Teen Wolf\")    314696   \n",
              "3339                                 Hold On       681   \n",
              "\n",
              "                                               UniqueID  \n",
              "0                                 Madan Mohan:Tere Liye  \n",
              "1                               Ruelle:Secrets and Lies  \n",
              "2                               James Arthur:Impossible  \n",
              "3                                       Bryce Fox:Horns  \n",
              "4                                  Molly Sandén:Phoenix  \n",
              "...                                                 ...  \n",
              "3335                           Tommee Profitt:Hurricane  \n",
              "3336                                Taylor Swift:willow  \n",
              "3337  Hannah Ellis:You Were Never Gone (From \"Teen W...  \n",
              "3338  Hannah Ellis:You Were Never Gone (From \"Teen W...  \n",
              "3339                           Chord Overstreet:Hold On  \n",
              "\n",
              "[43340 rows x 6 columns]"
            ],
            "text/html": [
              "\n",
              "  <div id=\"df-45d0618d-19f3-403c-a429-93d04e7a9d6f\">\n",
              "    <div class=\"colab-df-container\">\n",
              "      <div>\n",
              "<style scoped>\n",
              "    .dataframe tbody tr th:only-of-type {\n",
              "        vertical-align: middle;\n",
              "    }\n",
              "\n",
              "    .dataframe tbody tr th {\n",
              "        vertical-align: top;\n",
              "    }\n",
              "\n",
              "    .dataframe thead th {\n",
              "        text-align: right;\n",
              "    }\n",
              "</style>\n",
              "<table border=\"1\" class=\"dataframe\">\n",
              "  <thead>\n",
              "    <tr style=\"text-align: right;\">\n",
              "      <th></th>\n",
              "      <th>S.no</th>\n",
              "      <th>endTime</th>\n",
              "      <th>artistName</th>\n",
              "      <th>trackName</th>\n",
              "      <th>msPlayed</th>\n",
              "      <th>UniqueID</th>\n",
              "    </tr>\n",
              "  </thead>\n",
              "  <tbody>\n",
              "    <tr>\n",
              "      <th>0</th>\n",
              "      <td>0</td>\n",
              "      <td>2020-10-01 19:37</td>\n",
              "      <td>Madan Mohan</td>\n",
              "      <td>Tere Liye</td>\n",
              "      <td>10340</td>\n",
              "      <td>Madan Mohan:Tere Liye</td>\n",
              "    </tr>\n",
              "    <tr>\n",
              "      <th>1</th>\n",
              "      <td>1</td>\n",
              "      <td>2020-10-02 04:03</td>\n",
              "      <td>Ruelle</td>\n",
              "      <td>Secrets and Lies</td>\n",
              "      <td>8645</td>\n",
              "      <td>Ruelle:Secrets and Lies</td>\n",
              "    </tr>\n",
              "    <tr>\n",
              "      <th>2</th>\n",
              "      <td>2</td>\n",
              "      <td>2020-10-02 04:06</td>\n",
              "      <td>James Arthur</td>\n",
              "      <td>Impossible</td>\n",
              "      <td>209440</td>\n",
              "      <td>James Arthur:Impossible</td>\n",
              "    </tr>\n",
              "    <tr>\n",
              "      <th>3</th>\n",
              "      <td>3</td>\n",
              "      <td>2020-10-02 04:09</td>\n",
              "      <td>Bryce Fox</td>\n",
              "      <td>Horns</td>\n",
              "      <td>159079</td>\n",
              "      <td>Bryce Fox:Horns</td>\n",
              "    </tr>\n",
              "    <tr>\n",
              "      <th>4</th>\n",
              "      <td>4</td>\n",
              "      <td>2020-10-02 04:11</td>\n",
              "      <td>Molly Sandén</td>\n",
              "      <td>Phoenix</td>\n",
              "      <td>121187</td>\n",
              "      <td>Molly Sandén:Phoenix</td>\n",
              "    </tr>\n",
              "    <tr>\n",
              "      <th>...</th>\n",
              "      <td>...</td>\n",
              "      <td>...</td>\n",
              "      <td>...</td>\n",
              "      <td>...</td>\n",
              "      <td>...</td>\n",
              "      <td>...</td>\n",
              "    </tr>\n",
              "    <tr>\n",
              "      <th>3335</th>\n",
              "      <td>43335</td>\n",
              "      <td>2021-10-02 21:04</td>\n",
              "      <td>Tommee Profitt</td>\n",
              "      <td>Hurricane</td>\n",
              "      <td>376952</td>\n",
              "      <td>Tommee Profitt:Hurricane</td>\n",
              "    </tr>\n",
              "    <tr>\n",
              "      <th>3336</th>\n",
              "      <td>43336</td>\n",
              "      <td>2021-10-02 21:10</td>\n",
              "      <td>Taylor Swift</td>\n",
              "      <td>willow</td>\n",
              "      <td>15855</td>\n",
              "      <td>Taylor Swift:willow</td>\n",
              "    </tr>\n",
              "    <tr>\n",
              "      <th>3337</th>\n",
              "      <td>43337</td>\n",
              "      <td>2021-10-02 21:10</td>\n",
              "      <td>Hannah Ellis</td>\n",
              "      <td>You Were Never Gone (From \"Teen Wolf\")</td>\n",
              "      <td>3534</td>\n",
              "      <td>Hannah Ellis:You Were Never Gone (From \"Teen W...</td>\n",
              "    </tr>\n",
              "    <tr>\n",
              "      <th>3338</th>\n",
              "      <td>43338</td>\n",
              "      <td>2021-10-02 21:10</td>\n",
              "      <td>Hannah Ellis</td>\n",
              "      <td>You Were Never Gone (From \"Teen Wolf\")</td>\n",
              "      <td>314696</td>\n",
              "      <td>Hannah Ellis:You Were Never Gone (From \"Teen W...</td>\n",
              "    </tr>\n",
              "    <tr>\n",
              "      <th>3339</th>\n",
              "      <td>43339</td>\n",
              "      <td>2021-10-02 21:10</td>\n",
              "      <td>Chord Overstreet</td>\n",
              "      <td>Hold On</td>\n",
              "      <td>681</td>\n",
              "      <td>Chord Overstreet:Hold On</td>\n",
              "    </tr>\n",
              "  </tbody>\n",
              "</table>\n",
              "<p>43340 rows × 6 columns</p>\n",
              "</div>\n",
              "      <button class=\"colab-df-convert\" onclick=\"convertToInteractive('df-45d0618d-19f3-403c-a429-93d04e7a9d6f')\"\n",
              "              title=\"Convert this dataframe to an interactive table.\"\n",
              "              style=\"display:none;\">\n",
              "        \n",
              "  <svg xmlns=\"http://www.w3.org/2000/svg\" height=\"24px\"viewBox=\"0 0 24 24\"\n",
              "       width=\"24px\">\n",
              "    <path d=\"M0 0h24v24H0V0z\" fill=\"none\"/>\n",
              "    <path d=\"M18.56 5.44l.94 2.06.94-2.06 2.06-.94-2.06-.94-.94-2.06-.94 2.06-2.06.94zm-11 1L8.5 8.5l.94-2.06 2.06-.94-2.06-.94L8.5 2.5l-.94 2.06-2.06.94zm10 10l.94 2.06.94-2.06 2.06-.94-2.06-.94-.94-2.06-.94 2.06-2.06.94z\"/><path d=\"M17.41 7.96l-1.37-1.37c-.4-.4-.92-.59-1.43-.59-.52 0-1.04.2-1.43.59L10.3 9.45l-7.72 7.72c-.78.78-.78 2.05 0 2.83L4 21.41c.39.39.9.59 1.41.59.51 0 1.02-.2 1.41-.59l7.78-7.78 2.81-2.81c.8-.78.8-2.07 0-2.86zM5.41 20L4 18.59l7.72-7.72 1.47 1.35L5.41 20z\"/>\n",
              "  </svg>\n",
              "      </button>\n",
              "      \n",
              "  <style>\n",
              "    .colab-df-container {\n",
              "      display:flex;\n",
              "      flex-wrap:wrap;\n",
              "      gap: 12px;\n",
              "    }\n",
              "\n",
              "    .colab-df-convert {\n",
              "      background-color: #E8F0FE;\n",
              "      border: none;\n",
              "      border-radius: 50%;\n",
              "      cursor: pointer;\n",
              "      display: none;\n",
              "      fill: #1967D2;\n",
              "      height: 32px;\n",
              "      padding: 0 0 0 0;\n",
              "      width: 32px;\n",
              "    }\n",
              "\n",
              "    .colab-df-convert:hover {\n",
              "      background-color: #E2EBFA;\n",
              "      box-shadow: 0px 1px 2px rgba(60, 64, 67, 0.3), 0px 1px 3px 1px rgba(60, 64, 67, 0.15);\n",
              "      fill: #174EA6;\n",
              "    }\n",
              "\n",
              "    [theme=dark] .colab-df-convert {\n",
              "      background-color: #3B4455;\n",
              "      fill: #D2E3FC;\n",
              "    }\n",
              "\n",
              "    [theme=dark] .colab-df-convert:hover {\n",
              "      background-color: #434B5C;\n",
              "      box-shadow: 0px 1px 3px 1px rgba(0, 0, 0, 0.15);\n",
              "      filter: drop-shadow(0px 1px 2px rgba(0, 0, 0, 0.3));\n",
              "      fill: #FFFFFF;\n",
              "    }\n",
              "  </style>\n",
              "\n",
              "      <script>\n",
              "        const buttonEl =\n",
              "          document.querySelector('#df-45d0618d-19f3-403c-a429-93d04e7a9d6f button.colab-df-convert');\n",
              "        buttonEl.style.display =\n",
              "          google.colab.kernel.accessAllowed ? 'block' : 'none';\n",
              "\n",
              "        async function convertToInteractive(key) {\n",
              "          const element = document.querySelector('#df-45d0618d-19f3-403c-a429-93d04e7a9d6f');\n",
              "          const dataTable =\n",
              "            await google.colab.kernel.invokeFunction('convertToInteractive',\n",
              "                                                     [key], {});\n",
              "          if (!dataTable) return;\n",
              "\n",
              "          const docLinkHtml = 'Like what you see? Visit the ' +\n",
              "            '<a target=\"_blank\" href=https://colab.research.google.com/notebooks/data_table.ipynb>data table notebook</a>'\n",
              "            + ' to learn more about interactive tables.';\n",
              "          element.innerHTML = '';\n",
              "          dataTable['output_type'] = 'display_data';\n",
              "          await google.colab.output.renderOutput(dataTable, element);\n",
              "          const docLink = document.createElement('div');\n",
              "          docLink.innerHTML = docLinkHtml;\n",
              "          element.appendChild(docLink);\n",
              "        }\n",
              "      </script>\n",
              "    </div>\n",
              "  </div>\n",
              "  "
            ]
          },
          "metadata": {},
          "execution_count": 9
        }
      ],
      "source": [
        "#add a S.no column\n",
        "df['S.no'] = np.arange(len(df)) \n",
        "\n",
        "#reorder columns\n",
        "df = df[['S.no', 'endTime', 'artistName', 'trackName', 'msPlayed', 'UniqueID']]\n",
        "\n",
        "df"
      ]
    },
    {
      "cell_type": "code",
      "execution_count": null,
      "id": "4b586855",
      "metadata": {
        "colab": {
          "base_uri": "https://localhost:8080/"
        },
        "id": "4b586855",
        "outputId": "a6fc7f0f-56d9-45e8-ecf6-b1af3f71c463"
      },
      "outputs": [
        {
          "output_type": "stream",
          "name": "stdout",
          "text": [
            "<class 'pandas.core.frame.DataFrame'>\n",
            "Int64Index: 43340 entries, 0 to 3339\n",
            "Data columns (total 6 columns):\n",
            " #   Column      Non-Null Count  Dtype \n",
            "---  ------      --------------  ----- \n",
            " 0   S.no        43340 non-null  int64 \n",
            " 1   endTime     43340 non-null  object\n",
            " 2   artistName  43340 non-null  object\n",
            " 3   trackName   43340 non-null  object\n",
            " 4   msPlayed    43340 non-null  int64 \n",
            " 5   UniqueID    43340 non-null  object\n",
            "dtypes: int64(2), object(4)\n",
            "memory usage: 2.3+ MB\n"
          ]
        }
      ],
      "source": [
        "df.info()"
      ]
    },
    {
      "cell_type": "code",
      "execution_count": null,
      "id": "cf9b50db",
      "metadata": {
        "colab": {
          "base_uri": "https://localhost:8080/"
        },
        "id": "cf9b50db",
        "outputId": "151727c3-b401-4af9-b57b-401bc72a3d8d"
      },
      "outputs": [
        {
          "output_type": "execute_result",
          "data": {
            "text/plain": [
              "S.no          43340\n",
              "endTime       22618\n",
              "artistName      807\n",
              "trackName      1535\n",
              "msPlayed      22758\n",
              "UniqueID       1584\n",
              "dtype: int64"
            ]
          },
          "metadata": {},
          "execution_count": 11
        }
      ],
      "source": [
        "df.nunique() # To see the unique elements present in each column\n",
        "#df.sample(10) # To check a sample of the data"
      ]
    },
    {
      "cell_type": "code",
      "execution_count": null,
      "id": "3ae84689",
      "metadata": {
        "id": "3ae84689"
      },
      "outputs": [],
      "source": [
        "#df[\"artistName\"].unique() #display all unique artists\n",
        "#len(df[\"artistName\"].unique()) # Length of unique artist"
      ]
    },
    {
      "cell_type": "markdown",
      "source": [
        "CLEANING AND FORMATTING\n",
        "\n",
        "---\n",
        "\n"
      ],
      "metadata": {
        "id": "pllgJj1drZnL"
      },
      "id": "pllgJj1drZnL"
    },
    {
      "cell_type": "code",
      "execution_count": null,
      "id": "f4d73495",
      "metadata": {
        "id": "f4d73495"
      },
      "outputs": [],
      "source": [
        "#endtime to date-time column\n",
        "df[\"Play-Time\"]= pd.to_datetime(df[\"endTime\"]) # To create a additional column"
      ]
    },
    {
      "cell_type": "code",
      "execution_count": null,
      "id": "031ab595",
      "metadata": {
        "id": "031ab595"
      },
      "outputs": [],
      "source": [
        "#extracting particular info from play-time\n",
        "df['year'] =  pd.DatetimeIndex(df[\"Play-Time\"]).year\n",
        "df['month'] = pd.DatetimeIndex(df[\"Play-Time\"]).month\n",
        "df['day'] =   pd.DatetimeIndex(df[\"Play-Time\"]).day\n",
        "df['weekday'] = pd.DatetimeIndex(df[\"Play-Time\"]).weekday\n",
        "df['time'] = pd.DatetimeIndex(df[\"Play-Time\"]).time\n",
        "df['hours'] = pd.DatetimeIndex(df[\"Play-Time\"]).hour\n",
        "\n",
        "df['day-name'] = df[\"Play-Time\"].apply(lambda x: x.day_name())\n",
        "df['Count'] = 1  #to keep track of the count of the songs."
      ]
    },
    {
      "cell_type": "code",
      "execution_count": null,
      "id": "0d454a01",
      "metadata": {
        "id": "0d454a01"
      },
      "outputs": [],
      "source": [
        "#df"
      ]
    },
    {
      "cell_type": "code",
      "execution_count": null,
      "id": "ce099d04",
      "metadata": {
        "id": "ce099d04"
      },
      "outputs": [],
      "source": [
        "#msPlayed to proper format\n",
        "df[\"Time-Played (hh-mm-ss)\"] = pd.to_timedelta(df[\"msPlayed\"], unit='ms')"
      ]
    },
    {
      "cell_type": "code",
      "execution_count": null,
      "id": "6c7b14c5",
      "metadata": {
        "id": "6c7b14c5"
      },
      "outputs": [],
      "source": [
        "#df.head()"
      ]
    },
    {
      "cell_type": "code",
      "execution_count": null,
      "id": "3a206eef",
      "metadata": {
        "id": "3a206eef"
      },
      "outputs": [],
      "source": [
        "#create functions to convert to hours and mins\n",
        "def hours(td):\n",
        "    '''To get the hour information'''\n",
        "    return td.seconds/3600\n",
        "\n",
        "def minutes(td):\n",
        "    '''To get the minutes information'''\n",
        "    return (td.seconds/60)%60\n",
        "\n",
        "#new columns for hours and minutes\n",
        "df[\"Listening Time(Hours)\"] = df[\"Time-Played (hh-mm-ss)\"].apply(hours).round(3)\n",
        "df[\"Listening Time(Minutes)\"] = df[\"Time-Played (hh-mm-ss)\"].apply(minutes).round(3) #roundoff to 3 decimal places"
      ]
    },
    {
      "cell_type": "code",
      "execution_count": null,
      "id": "96c80856",
      "metadata": {
        "id": "96c80856"
      },
      "outputs": [],
      "source": [
        "#df.head()"
      ]
    },
    {
      "cell_type": "code",
      "execution_count": null,
      "id": "ab6e0b26",
      "metadata": {
        "id": "ab6e0b26"
      },
      "outputs": [],
      "source": [
        "df.drop(columns=[\"endTime\",\"msPlayed\", \"Time-Played (hh-mm-ss)\"], inplace=True)\n",
        "#inplace as True - updates the dataframe directly, rather than re-assigning it again."
      ]
    },
    {
      "cell_type": "code",
      "execution_count": null,
      "id": "ffd946d8",
      "metadata": {
        "colab": {
          "base_uri": "https://localhost:8080/",
          "height": 382
        },
        "id": "ffd946d8",
        "outputId": "057ee06c-fa7a-43e8-d605-3f789d645663"
      },
      "outputs": [
        {
          "output_type": "execute_result",
          "data": {
            "text/plain": [
              "              S.no          year         month           day      weekday  \\\n",
              "count  43340.00000  43340.000000  43340.000000  43340.000000  43340.00000   \n",
              "mean   21669.50000   2020.818113      6.327434     15.623996      3.00773   \n",
              "std    12511.32467      0.385756      3.297694      8.830489      1.98676   \n",
              "min        0.00000   2020.000000      1.000000      1.000000      0.00000   \n",
              "25%    10834.75000   2021.000000      4.000000      8.000000      1.00000   \n",
              "50%    21669.50000   2021.000000      6.000000     16.000000      3.00000   \n",
              "75%    32504.25000   2021.000000      9.000000     23.000000      5.00000   \n",
              "max    43339.00000   2021.000000     12.000000     31.000000      6.00000   \n",
              "\n",
              "              hours    Count  Listening Time(Hours)  Listening Time(Minutes)  \n",
              "count  43340.000000  43340.0           43340.000000             43340.000000  \n",
              "mean      12.610245      1.0               0.022239                 1.334363  \n",
              "std        4.314823      0.0               0.026663                 1.599656  \n",
              "min        0.000000      1.0               0.000000                 0.000000  \n",
              "25%       10.000000      1.0               0.001000                 0.033000  \n",
              "50%       13.000000      1.0               0.004000                 0.250000  \n",
              "75%       16.000000      1.0               0.046000                 2.767000  \n",
              "max       22.000000      1.0               0.521000                31.233000  "
            ],
            "text/html": [
              "\n",
              "  <div id=\"df-ef562fe6-cb6e-4dec-a844-e484bdfb9b65\">\n",
              "    <div class=\"colab-df-container\">\n",
              "      <div>\n",
              "<style scoped>\n",
              "    .dataframe tbody tr th:only-of-type {\n",
              "        vertical-align: middle;\n",
              "    }\n",
              "\n",
              "    .dataframe tbody tr th {\n",
              "        vertical-align: top;\n",
              "    }\n",
              "\n",
              "    .dataframe thead th {\n",
              "        text-align: right;\n",
              "    }\n",
              "</style>\n",
              "<table border=\"1\" class=\"dataframe\">\n",
              "  <thead>\n",
              "    <tr style=\"text-align: right;\">\n",
              "      <th></th>\n",
              "      <th>S.no</th>\n",
              "      <th>year</th>\n",
              "      <th>month</th>\n",
              "      <th>day</th>\n",
              "      <th>weekday</th>\n",
              "      <th>hours</th>\n",
              "      <th>Count</th>\n",
              "      <th>Listening Time(Hours)</th>\n",
              "      <th>Listening Time(Minutes)</th>\n",
              "    </tr>\n",
              "  </thead>\n",
              "  <tbody>\n",
              "    <tr>\n",
              "      <th>count</th>\n",
              "      <td>43340.00000</td>\n",
              "      <td>43340.000000</td>\n",
              "      <td>43340.000000</td>\n",
              "      <td>43340.000000</td>\n",
              "      <td>43340.00000</td>\n",
              "      <td>43340.000000</td>\n",
              "      <td>43340.0</td>\n",
              "      <td>43340.000000</td>\n",
              "      <td>43340.000000</td>\n",
              "    </tr>\n",
              "    <tr>\n",
              "      <th>mean</th>\n",
              "      <td>21669.50000</td>\n",
              "      <td>2020.818113</td>\n",
              "      <td>6.327434</td>\n",
              "      <td>15.623996</td>\n",
              "      <td>3.00773</td>\n",
              "      <td>12.610245</td>\n",
              "      <td>1.0</td>\n",
              "      <td>0.022239</td>\n",
              "      <td>1.334363</td>\n",
              "    </tr>\n",
              "    <tr>\n",
              "      <th>std</th>\n",
              "      <td>12511.32467</td>\n",
              "      <td>0.385756</td>\n",
              "      <td>3.297694</td>\n",
              "      <td>8.830489</td>\n",
              "      <td>1.98676</td>\n",
              "      <td>4.314823</td>\n",
              "      <td>0.0</td>\n",
              "      <td>0.026663</td>\n",
              "      <td>1.599656</td>\n",
              "    </tr>\n",
              "    <tr>\n",
              "      <th>min</th>\n",
              "      <td>0.00000</td>\n",
              "      <td>2020.000000</td>\n",
              "      <td>1.000000</td>\n",
              "      <td>1.000000</td>\n",
              "      <td>0.00000</td>\n",
              "      <td>0.000000</td>\n",
              "      <td>1.0</td>\n",
              "      <td>0.000000</td>\n",
              "      <td>0.000000</td>\n",
              "    </tr>\n",
              "    <tr>\n",
              "      <th>25%</th>\n",
              "      <td>10834.75000</td>\n",
              "      <td>2021.000000</td>\n",
              "      <td>4.000000</td>\n",
              "      <td>8.000000</td>\n",
              "      <td>1.00000</td>\n",
              "      <td>10.000000</td>\n",
              "      <td>1.0</td>\n",
              "      <td>0.001000</td>\n",
              "      <td>0.033000</td>\n",
              "    </tr>\n",
              "    <tr>\n",
              "      <th>50%</th>\n",
              "      <td>21669.50000</td>\n",
              "      <td>2021.000000</td>\n",
              "      <td>6.000000</td>\n",
              "      <td>16.000000</td>\n",
              "      <td>3.00000</td>\n",
              "      <td>13.000000</td>\n",
              "      <td>1.0</td>\n",
              "      <td>0.004000</td>\n",
              "      <td>0.250000</td>\n",
              "    </tr>\n",
              "    <tr>\n",
              "      <th>75%</th>\n",
              "      <td>32504.25000</td>\n",
              "      <td>2021.000000</td>\n",
              "      <td>9.000000</td>\n",
              "      <td>23.000000</td>\n",
              "      <td>5.00000</td>\n",
              "      <td>16.000000</td>\n",
              "      <td>1.0</td>\n",
              "      <td>0.046000</td>\n",
              "      <td>2.767000</td>\n",
              "    </tr>\n",
              "    <tr>\n",
              "      <th>max</th>\n",
              "      <td>43339.00000</td>\n",
              "      <td>2021.000000</td>\n",
              "      <td>12.000000</td>\n",
              "      <td>31.000000</td>\n",
              "      <td>6.00000</td>\n",
              "      <td>22.000000</td>\n",
              "      <td>1.0</td>\n",
              "      <td>0.521000</td>\n",
              "      <td>31.233000</td>\n",
              "    </tr>\n",
              "  </tbody>\n",
              "</table>\n",
              "</div>\n",
              "      <button class=\"colab-df-convert\" onclick=\"convertToInteractive('df-ef562fe6-cb6e-4dec-a844-e484bdfb9b65')\"\n",
              "              title=\"Convert this dataframe to an interactive table.\"\n",
              "              style=\"display:none;\">\n",
              "        \n",
              "  <svg xmlns=\"http://www.w3.org/2000/svg\" height=\"24px\"viewBox=\"0 0 24 24\"\n",
              "       width=\"24px\">\n",
              "    <path d=\"M0 0h24v24H0V0z\" fill=\"none\"/>\n",
              "    <path d=\"M18.56 5.44l.94 2.06.94-2.06 2.06-.94-2.06-.94-.94-2.06-.94 2.06-2.06.94zm-11 1L8.5 8.5l.94-2.06 2.06-.94-2.06-.94L8.5 2.5l-.94 2.06-2.06.94zm10 10l.94 2.06.94-2.06 2.06-.94-2.06-.94-.94-2.06-.94 2.06-2.06.94z\"/><path d=\"M17.41 7.96l-1.37-1.37c-.4-.4-.92-.59-1.43-.59-.52 0-1.04.2-1.43.59L10.3 9.45l-7.72 7.72c-.78.78-.78 2.05 0 2.83L4 21.41c.39.39.9.59 1.41.59.51 0 1.02-.2 1.41-.59l7.78-7.78 2.81-2.81c.8-.78.8-2.07 0-2.86zM5.41 20L4 18.59l7.72-7.72 1.47 1.35L5.41 20z\"/>\n",
              "  </svg>\n",
              "      </button>\n",
              "      \n",
              "  <style>\n",
              "    .colab-df-container {\n",
              "      display:flex;\n",
              "      flex-wrap:wrap;\n",
              "      gap: 12px;\n",
              "    }\n",
              "\n",
              "    .colab-df-convert {\n",
              "      background-color: #E8F0FE;\n",
              "      border: none;\n",
              "      border-radius: 50%;\n",
              "      cursor: pointer;\n",
              "      display: none;\n",
              "      fill: #1967D2;\n",
              "      height: 32px;\n",
              "      padding: 0 0 0 0;\n",
              "      width: 32px;\n",
              "    }\n",
              "\n",
              "    .colab-df-convert:hover {\n",
              "      background-color: #E2EBFA;\n",
              "      box-shadow: 0px 1px 2px rgba(60, 64, 67, 0.3), 0px 1px 3px 1px rgba(60, 64, 67, 0.15);\n",
              "      fill: #174EA6;\n",
              "    }\n",
              "\n",
              "    [theme=dark] .colab-df-convert {\n",
              "      background-color: #3B4455;\n",
              "      fill: #D2E3FC;\n",
              "    }\n",
              "\n",
              "    [theme=dark] .colab-df-convert:hover {\n",
              "      background-color: #434B5C;\n",
              "      box-shadow: 0px 1px 3px 1px rgba(0, 0, 0, 0.15);\n",
              "      filter: drop-shadow(0px 1px 2px rgba(0, 0, 0, 0.3));\n",
              "      fill: #FFFFFF;\n",
              "    }\n",
              "  </style>\n",
              "\n",
              "      <script>\n",
              "        const buttonEl =\n",
              "          document.querySelector('#df-ef562fe6-cb6e-4dec-a844-e484bdfb9b65 button.colab-df-convert');\n",
              "        buttonEl.style.display =\n",
              "          google.colab.kernel.accessAllowed ? 'block' : 'none';\n",
              "\n",
              "        async function convertToInteractive(key) {\n",
              "          const element = document.querySelector('#df-ef562fe6-cb6e-4dec-a844-e484bdfb9b65');\n",
              "          const dataTable =\n",
              "            await google.colab.kernel.invokeFunction('convertToInteractive',\n",
              "                                                     [key], {});\n",
              "          if (!dataTable) return;\n",
              "\n",
              "          const docLinkHtml = 'Like what you see? Visit the ' +\n",
              "            '<a target=\"_blank\" href=https://colab.research.google.com/notebooks/data_table.ipynb>data table notebook</a>'\n",
              "            + ' to learn more about interactive tables.';\n",
              "          element.innerHTML = '';\n",
              "          dataTable['output_type'] = 'display_data';\n",
              "          await google.colab.output.renderOutput(dataTable, element);\n",
              "          const docLink = document.createElement('div');\n",
              "          docLink.innerHTML = docLinkHtml;\n",
              "          element.appendChild(docLink);\n",
              "        }\n",
              "      </script>\n",
              "    </div>\n",
              "  </div>\n",
              "  "
            ]
          },
          "metadata": {},
          "execution_count": 22
        }
      ],
      "source": [
        "df.describe()"
      ]
    },
    {
      "cell_type": "markdown",
      "source": [
        "EXPORATORY DATA ANALYSIS AND VISUALIZATION\n",
        "\n",
        "---\n",
        "\n"
      ],
      "metadata": {
        "id": "4SZtVhyori0M"
      },
      "id": "4SZtVhyori0M"
    },
    {
      "cell_type": "code",
      "execution_count": null,
      "id": "b0da2bce",
      "metadata": {
        "id": "b0da2bce"
      },
      "outputs": [],
      "source": [
        "#visualisation environment\n",
        "sns.set_style('darkgrid')\n",
        "plt.style.use('seaborn-darkgrid')\n",
        "\n",
        "matplotlib.rcParams['font.size'] = 14\n",
        "matplotlib.rcParams['figure.figsize'] = (9, 5)\n",
        "matplotlib.rcParams['figure.facecolor'] = '#00000000'"
      ]
    },
    {
      "cell_type": "code",
      "execution_count": null,
      "id": "bbcaa135",
      "metadata": {
        "colab": {
          "base_uri": "https://localhost:8080/"
        },
        "id": "bbcaa135",
        "outputId": "7475821b-9b45-453d-8b3d-f88c100c2011"
      },
      "outputs": [
        {
          "output_type": "execute_result",
          "data": {
            "text/plain": [
              "1.862021227503461"
            ]
          },
          "metadata": {},
          "execution_count": 25
        }
      ],
      "source": [
        "unique_artists = df[\"artistName\"].nunique() # Count number of unique artist in dataset\n",
        "total_artists = df[\"artistName\"].count() # Count total artist in dataset\n",
        "unique_artist_percentage = unique_artists/total_artists*100 # Get the percentage of the unique\n",
        "unique_artist_percentage"
      ]
    },
    {
      "cell_type": "code",
      "execution_count": null,
      "id": "190c6320",
      "metadata": {
        "colab": {
          "base_uri": "https://localhost:8080/",
          "height": 266
        },
        "id": "190c6320",
        "outputId": "26684a98-445e-4be2-9d35-0c579d989cf1"
      },
      "outputs": [
        {
          "output_type": "display_data",
          "data": {
            "text/plain": [
              "<Figure size 288x288 with 1 Axes>"
            ],
            "image/png": "[encoded data removed]"
          },
          "metadata": {}
        }
      ],
      "source": [
        "unique_artist_list = np.array([unique_artists, total_artists-unique_artists]) # Make an array out of the results\n",
        "unique_artist_list_labels = [\" Unique Artists\", \"Non Unique Artists\"] # Make a lable for them\n",
        "\n",
        "fig, ax = plt.subplots(figsize=(4,4))   #pyplot API is generally less-flexible than the object-oriented API.\n",
        "ax.pie(unique_artist_list, labels= unique_artist_list_labels, autopct='%1.1f%%',explode=[0.05,0.05] ,startangle=180, shadow = True);\n",
        "plt.title(\"Unique Artist Percentage\");"
      ]
    },
    {
      "cell_type": "code",
      "execution_count": null,
      "id": "219525cb",
      "metadata": {
        "colab": {
          "base_uri": "https://localhost:8080/",
          "height": 269
        },
        "id": "219525cb",
        "outputId": "3d0e96cf-2274-4a6d-9f50-2489199198b8"
      },
      "outputs": [
        {
          "output_type": "execute_result",
          "data": {
            "text/plain": [
              "                Listening Time(Hours)  Listening Time(Minutes)  Count\n",
              "artistName                                                           \n",
              "Taylor Swift                   41.490                 2488.090   1882\n",
              "Alina Baraz                    26.266                 1575.220    719\n",
              "James Arthur                   25.468                 1526.568    804\n",
              "Ruelle                         22.185                 1331.037   1231\n",
              "Halsey                         18.532                 1111.948    814\n",
              "Paolo Buonvino                 16.817                 1008.852    499"
            ],
            "text/html": [
              "\n",
              "  <div id=\"df-bab44649-af29-4ec0-8e56-a794fed24142\">\n",
              "    <div class=\"colab-df-container\">\n",
              "      <div>\n",
              "<style scoped>\n",
              "    .dataframe tbody tr th:only-of-type {\n",
              "        vertical-align: middle;\n",
              "    }\n",
              "\n",
              "    .dataframe tbody tr th {\n",
              "        vertical-align: top;\n",
              "    }\n",
              "\n",
              "    .dataframe thead th {\n",
              "        text-align: right;\n",
              "    }\n",
              "</style>\n",
              "<table border=\"1\" class=\"dataframe\">\n",
              "  <thead>\n",
              "    <tr style=\"text-align: right;\">\n",
              "      <th></th>\n",
              "      <th>Listening Time(Hours)</th>\n",
              "      <th>Listening Time(Minutes)</th>\n",
              "      <th>Count</th>\n",
              "    </tr>\n",
              "    <tr>\n",
              "      <th>artistName</th>\n",
              "      <th></th>\n",
              "      <th></th>\n",
              "      <th></th>\n",
              "    </tr>\n",
              "  </thead>\n",
              "  <tbody>\n",
              "    <tr>\n",
              "      <th>Taylor Swift</th>\n",
              "      <td>41.490</td>\n",
              "      <td>2488.090</td>\n",
              "      <td>1882</td>\n",
              "    </tr>\n",
              "    <tr>\n",
              "      <th>Alina Baraz</th>\n",
              "      <td>26.266</td>\n",
              "      <td>1575.220</td>\n",
              "      <td>719</td>\n",
              "    </tr>\n",
              "    <tr>\n",
              "      <th>James Arthur</th>\n",
              "      <td>25.468</td>\n",
              "      <td>1526.568</td>\n",
              "      <td>804</td>\n",
              "    </tr>\n",
              "    <tr>\n",
              "      <th>Ruelle</th>\n",
              "      <td>22.185</td>\n",
              "      <td>1331.037</td>\n",
              "      <td>1231</td>\n",
              "    </tr>\n",
              "    <tr>\n",
              "      <th>Halsey</th>\n",
              "      <td>18.532</td>\n",
              "      <td>1111.948</td>\n",
              "      <td>814</td>\n",
              "    </tr>\n",
              "    <tr>\n",
              "      <th>Paolo Buonvino</th>\n",
              "      <td>16.817</td>\n",
              "      <td>1008.852</td>\n",
              "      <td>499</td>\n",
              "    </tr>\n",
              "  </tbody>\n",
              "</table>\n",
              "</div>\n",
              "      <button class=\"colab-df-convert\" onclick=\"convertToInteractive('df-bab44649-af29-4ec0-8e56-a794fed24142')\"\n",
              "              title=\"Convert this dataframe to an interactive table.\"\n",
              "              style=\"display:none;\">\n",
              "        \n",
              "  <svg xmlns=\"http://www.w3.org/2000/svg\" height=\"24px\"viewBox=\"0 0 24 24\"\n",
              "       width=\"24px\">\n",
              "    <path d=\"M0 0h24v24H0V0z\" fill=\"none\"/>\n",
              "    <path d=\"M18.56 5.44l.94 2.06.94-2.06 2.06-.94-2.06-.94-.94-2.06-.94 2.06-2.06.94zm-11 1L8.5 8.5l.94-2.06 2.06-.94-2.06-.94L8.5 2.5l-.94 2.06-2.06.94zm10 10l.94 2.06.94-2.06 2.06-.94-2.06-.94-.94-2.06-.94 2.06-2.06.94z\"/><path d=\"M17.41 7.96l-1.37-1.37c-.4-.4-.92-.59-1.43-.59-.52 0-1.04.2-1.43.59L10.3 9.45l-7.72 7.72c-.78.78-.78 2.05 0 2.83L4 21.41c.39.39.9.59 1.41.59.51 0 1.02-.2 1.41-.59l7.78-7.78 2.81-2.81c.8-.78.8-2.07 0-2.86zM5.41 20L4 18.59l7.72-7.72 1.47 1.35L5.41 20z\"/>\n",
              "  </svg>\n",
              "      </button>\n",
              "      \n",
              "  <style>\n",
              "    .colab-df-container {\n",
              "      display:flex;\n",
              "      flex-wrap:wrap;\n",
              "      gap: 12px;\n",
              "    }\n",
              "\n",
              "    .colab-df-convert {\n",
              "      background-color: #E8F0FE;\n",
              "      border: none;\n",
              "      border-radius: 50%;\n",
              "      cursor: pointer;\n",
              "      display: none;\n",
              "      fill: #1967D2;\n",
              "      height: 32px;\n",
              "      padding: 0 0 0 0;\n",
              "      width: 32px;\n",
              "    }\n",
              "\n",
              "    .colab-df-convert:hover {\n",
              "      background-color: #E2EBFA;\n",
              "      box-shadow: 0px 1px 2px rgba(60, 64, 67, 0.3), 0px 1px 3px 1px rgba(60, 64, 67, 0.15);\n",
              "      fill: #174EA6;\n",
              "    }\n",
              "\n",
              "    [theme=dark] .colab-df-convert {\n",
              "      background-color: #3B4455;\n",
              "      fill: #D2E3FC;\n",
              "    }\n",
              "\n",
              "    [theme=dark] .colab-df-convert:hover {\n",
              "      background-color: #434B5C;\n",
              "      box-shadow: 0px 1px 3px 1px rgba(0, 0, 0, 0.15);\n",
              "      filter: drop-shadow(0px 1px 2px rgba(0, 0, 0, 0.3));\n",
              "      fill: #FFFFFF;\n",
              "    }\n",
              "  </style>\n",
              "\n",
              "      <script>\n",
              "        const buttonEl =\n",
              "          document.querySelector('#df-bab44649-af29-4ec0-8e56-a794fed24142 button.colab-df-convert');\n",
              "        buttonEl.style.display =\n",
              "          google.colab.kernel.accessAllowed ? 'block' : 'none';\n",
              "\n",
              "        async function convertToInteractive(key) {\n",
              "          const element = document.querySelector('#df-bab44649-af29-4ec0-8e56-a794fed24142');\n",
              "          const dataTable =\n",
              "            await google.colab.kernel.invokeFunction('convertToInteractive',\n",
              "                                                     [key], {});\n",
              "          if (!dataTable) return;\n",
              "\n",
              "          const docLinkHtml = 'Like what you see? Visit the ' +\n",
              "            '<a target=\"_blank\" href=https://colab.research.google.com/notebooks/data_table.ipynb>data table notebook</a>'\n",
              "            + ' to learn more about interactive tables.';\n",
              "          element.innerHTML = '';\n",
              "          dataTable['output_type'] = 'display_data';\n",
              "          await google.colab.output.renderOutput(dataTable, element);\n",
              "          const docLink = document.createElement('div');\n",
              "          docLink.innerHTML = docLinkHtml;\n",
              "          element.appendChild(docLink);\n",
              "        }\n",
              "      </script>\n",
              "    </div>\n",
              "  </div>\n",
              "  "
            ]
          },
          "metadata": {},
          "execution_count": 27
        }
      ],
      "source": [
        "#displaying top 10 artists\n",
        "top_10_artist_df = df.groupby([\"artistName\"])[[\"Listening Time(Hours)\",\"Listening Time(Minutes)\",\"Count\"]].sum().sort_values(by=\"Listening Time(Minutes)\",ascending=False)\n",
        "top_10_artist_df.head(6)"
      ]
    },
    {
      "cell_type": "code",
      "execution_count": null,
      "id": "c1d27439",
      "metadata": {
        "colab": {
          "base_uri": "https://localhost:8080/",
          "height": 237
        },
        "id": "c1d27439",
        "outputId": "dc96d87c-a01c-45f5-9850-6fbff8b703d7"
      },
      "outputs": [
        {
          "output_type": "execute_result",
          "data": {
            "text/plain": [
              "              Listening Time(Hours)  Listening Time(Minutes)  Count\n",
              "artistName                                                         \n",
              "Taylor Swift                 41.490                 2488.090   1882\n",
              "Alina Baraz                  26.266                 1575.220    719\n",
              "James Arthur                 25.468                 1526.568    804\n",
              "Ruelle                       22.185                 1331.037   1231\n",
              "Halsey                       18.532                 1111.948    814"
            ],
            "text/html": [
              "\n",
              "  <div id=\"df-cdee931e-7d2b-4fbb-ad32-2bf237173c55\">\n",
              "    <div class=\"colab-df-container\">\n",
              "      <div>\n",
              "<style scoped>\n",
              "    .dataframe tbody tr th:only-of-type {\n",
              "        vertical-align: middle;\n",
              "    }\n",
              "\n",
              "    .dataframe tbody tr th {\n",
              "        vertical-align: top;\n",
              "    }\n",
              "\n",
              "    .dataframe thead th {\n",
              "        text-align: right;\n",
              "    }\n",
              "</style>\n",
              "<table border=\"1\" class=\"dataframe\">\n",
              "  <thead>\n",
              "    <tr style=\"text-align: right;\">\n",
              "      <th></th>\n",
              "      <th>Listening Time(Hours)</th>\n",
              "      <th>Listening Time(Minutes)</th>\n",
              "      <th>Count</th>\n",
              "    </tr>\n",
              "    <tr>\n",
              "      <th>artistName</th>\n",
              "      <th></th>\n",
              "      <th></th>\n",
              "      <th></th>\n",
              "    </tr>\n",
              "  </thead>\n",
              "  <tbody>\n",
              "    <tr>\n",
              "      <th>Taylor Swift</th>\n",
              "      <td>41.490</td>\n",
              "      <td>2488.090</td>\n",
              "      <td>1882</td>\n",
              "    </tr>\n",
              "    <tr>\n",
              "      <th>Alina Baraz</th>\n",
              "      <td>26.266</td>\n",
              "      <td>1575.220</td>\n",
              "      <td>719</td>\n",
              "    </tr>\n",
              "    <tr>\n",
              "      <th>James Arthur</th>\n",
              "      <td>25.468</td>\n",
              "      <td>1526.568</td>\n",
              "      <td>804</td>\n",
              "    </tr>\n",
              "    <tr>\n",
              "      <th>Ruelle</th>\n",
              "      <td>22.185</td>\n",
              "      <td>1331.037</td>\n",
              "      <td>1231</td>\n",
              "    </tr>\n",
              "    <tr>\n",
              "      <th>Halsey</th>\n",
              "      <td>18.532</td>\n",
              "      <td>1111.948</td>\n",
              "      <td>814</td>\n",
              "    </tr>\n",
              "  </tbody>\n",
              "</table>\n",
              "</div>\n",
              "      <button class=\"colab-df-convert\" onclick=\"convertToInteractive('df-cdee931e-7d2b-4fbb-ad32-2bf237173c55')\"\n",
              "              title=\"Convert this dataframe to an interactive table.\"\n",
              "              style=\"display:none;\">\n",
              "        \n",
              "  <svg xmlns=\"http://www.w3.org/2000/svg\" height=\"24px\"viewBox=\"0 0 24 24\"\n",
              "       width=\"24px\">\n",
              "    <path d=\"M0 0h24v24H0V0z\" fill=\"none\"/>\n",
              "    <path d=\"M18.56 5.44l.94 2.06.94-2.06 2.06-.94-2.06-.94-.94-2.06-.94 2.06-2.06.94zm-11 1L8.5 8.5l.94-2.06 2.06-.94-2.06-.94L8.5 2.5l-.94 2.06-2.06.94zm10 10l.94 2.06.94-2.06 2.06-.94-2.06-.94-.94-2.06-.94 2.06-2.06.94z\"/><path d=\"M17.41 7.96l-1.37-1.37c-.4-.4-.92-.59-1.43-.59-.52 0-1.04.2-1.43.59L10.3 9.45l-7.72 7.72c-.78.78-.78 2.05 0 2.83L4 21.41c.39.39.9.59 1.41.59.51 0 1.02-.2 1.41-.59l7.78-7.78 2.81-2.81c.8-.78.8-2.07 0-2.86zM5.41 20L4 18.59l7.72-7.72 1.47 1.35L5.41 20z\"/>\n",
              "  </svg>\n",
              "      </button>\n",
              "      \n",
              "  <style>\n",
              "    .colab-df-container {\n",
              "      display:flex;\n",
              "      flex-wrap:wrap;\n",
              "      gap: 12px;\n",
              "    }\n",
              "\n",
              "    .colab-df-convert {\n",
              "      background-color: #E8F0FE;\n",
              "      border: none;\n",
              "      border-radius: 50%;\n",
              "      cursor: pointer;\n",
              "      display: none;\n",
              "      fill: #1967D2;\n",
              "      height: 32px;\n",
              "      padding: 0 0 0 0;\n",
              "      width: 32px;\n",
              "    }\n",
              "\n",
              "    .colab-df-convert:hover {\n",
              "      background-color: #E2EBFA;\n",
              "      box-shadow: 0px 1px 2px rgba(60, 64, 67, 0.3), 0px 1px 3px 1px rgba(60, 64, 67, 0.15);\n",
              "      fill: #174EA6;\n",
              "    }\n",
              "\n",
              "    [theme=dark] .colab-df-convert {\n",
              "      background-color: #3B4455;\n",
              "      fill: #D2E3FC;\n",
              "    }\n",
              "\n",
              "    [theme=dark] .colab-df-convert:hover {\n",
              "      background-color: #434B5C;\n",
              "      box-shadow: 0px 1px 3px 1px rgba(0, 0, 0, 0.15);\n",
              "      filter: drop-shadow(0px 1px 2px rgba(0, 0, 0, 0.3));\n",
              "      fill: #FFFFFF;\n",
              "    }\n",
              "  </style>\n",
              "\n",
              "      <script>\n",
              "        const buttonEl =\n",
              "          document.querySelector('#df-cdee931e-7d2b-4fbb-ad32-2bf237173c55 button.colab-df-convert');\n",
              "        buttonEl.style.display =\n",
              "          google.colab.kernel.accessAllowed ? 'block' : 'none';\n",
              "\n",
              "        async function convertToInteractive(key) {\n",
              "          const element = document.querySelector('#df-cdee931e-7d2b-4fbb-ad32-2bf237173c55');\n",
              "          const dataTable =\n",
              "            await google.colab.kernel.invokeFunction('convertToInteractive',\n",
              "                                                     [key], {});\n",
              "          if (!dataTable) return;\n",
              "\n",
              "          const docLinkHtml = 'Like what you see? Visit the ' +\n",
              "            '<a target=\"_blank\" href=https://colab.research.google.com/notebooks/data_table.ipynb>data table notebook</a>'\n",
              "            + ' to learn more about interactive tables.';\n",
              "          element.innerHTML = '';\n",
              "          dataTable['output_type'] = 'display_data';\n",
              "          await google.colab.output.renderOutput(dataTable, element);\n",
              "          const docLink = document.createElement('div');\n",
              "          docLink.innerHTML = docLinkHtml;\n",
              "          element.appendChild(docLink);\n",
              "        }\n",
              "      </script>\n",
              "    </div>\n",
              "  </div>\n",
              "  "
            ]
          },
          "metadata": {},
          "execution_count": 28
        }
      ],
      "source": [
        "top_10_artist_time_df = df.groupby([\"artistName\"])[[\"Listening Time(Hours)\",\"Listening Time(Minutes)\",\"Count\"]].sum().sort_values(by=\"Listening Time(Minutes)\",ascending=False)\n",
        "top_10_artist_time_df.head(5)"
      ]
    },
    {
      "cell_type": "code",
      "execution_count": null,
      "id": "cac4f8f2",
      "metadata": {
        "colab": {
          "base_uri": "https://localhost:8080/",
          "height": 386
        },
        "id": "cac4f8f2",
        "outputId": "43e37a22-e015-4c38-bc67-ef2c55aa7fa8"
      },
      "outputs": [
        {
          "output_type": "display_data",
          "data": {
            "text/plain": [
              "<Figure size 648x288 with 1 Axes>"
            ],
            "image/png": "[encoded data removed]"
          },
          "metadata": {
            "needs_background": "light"
          }
        }
      ],
      "source": [
        "fig,ax = plt.subplots(figsize=(9,4))\n",
        "ax.bar(top_10_artist_time_df.head(10).index, top_10_artist_time_df[\"Listening Time(Hours)\"].head(10), color='green')\n",
        "ax.set(title=\"My Top Artists\", xlabel=\"Artists\", ylabel=\"Hours spent listening\");\n",
        "plt.xticks(rotation=75);"
      ]
    },
    {
      "cell_type": "code",
      "execution_count": null,
      "id": "366268f0",
      "metadata": {
        "colab": {
          "base_uri": "https://localhost:8080/",
          "height": 235
        },
        "id": "366268f0",
        "outputId": "44f21843-7c1e-4ade-a0b6-608b927f95df"
      },
      "outputs": [
        {
          "output_type": "execute_result",
          "data": {
            "text/plain": [
              "                  Listening Time(Hours)  Listening Time(Minutes)  Count\n",
              "artistName                                                             \n",
              "Taylor Swift                     41.490                 2488.090   1882\n",
              "Ruelle                           22.185                 1331.037   1231\n",
              "Halsey                           18.532                 1111.948    814\n",
              "James Arthur                     25.468                 1526.568    804\n",
              "Alina Baraz                      26.266                 1575.220    719\n",
              "The Chainsmokers                 10.303                  617.749    641"
            ],
            "text/html": [
              "\n",
              "  <div id=\"df-f1b181c7-e916-4f2b-ac8d-a440eb9e2e88\">\n",
              "    <div class=\"colab-df-container\">\n",
              "      <div>\n",
              "<style scoped>\n",
              "    .dataframe tbody tr th:only-of-type {\n",
              "        vertical-align: middle;\n",
              "    }\n",
              "\n",
              "    .dataframe tbody tr th {\n",
              "        vertical-align: top;\n",
              "    }\n",
              "\n",
              "    .dataframe thead th {\n",
              "        text-align: right;\n",
              "    }\n",
              "</style>\n",
              "<table border=\"1\" class=\"dataframe\">\n",
              "  <thead>\n",
              "    <tr style=\"text-align: right;\">\n",
              "      <th></th>\n",
              "      <th>Listening Time(Hours)</th>\n",
              "      <th>Listening Time(Minutes)</th>\n",
              "      <th>Count</th>\n",
              "    </tr>\n",
              "    <tr>\n",
              "      <th>artistName</th>\n",
              "      <th></th>\n",
              "      <th></th>\n",
              "      <th></th>\n",
              "    </tr>\n",
              "  </thead>\n",
              "  <tbody>\n",
              "    <tr>\n",
              "      <th>Taylor Swift</th>\n",
              "      <td>41.490</td>\n",
              "      <td>2488.090</td>\n",
              "      <td>1882</td>\n",
              "    </tr>\n",
              "    <tr>\n",
              "      <th>Ruelle</th>\n",
              "      <td>22.185</td>\n",
              "      <td>1331.037</td>\n",
              "      <td>1231</td>\n",
              "    </tr>\n",
              "    <tr>\n",
              "      <th>Halsey</th>\n",
              "      <td>18.532</td>\n",
              "      <td>1111.948</td>\n",
              "      <td>814</td>\n",
              "    </tr>\n",
              "    <tr>\n",
              "      <th>James Arthur</th>\n",
              "      <td>25.468</td>\n",
              "      <td>1526.568</td>\n",
              "      <td>804</td>\n",
              "    </tr>\n",
              "    <tr>\n",
              "      <th>Alina Baraz</th>\n",
              "      <td>26.266</td>\n",
              "      <td>1575.220</td>\n",
              "      <td>719</td>\n",
              "    </tr>\n",
              "    <tr>\n",
              "      <th>The Chainsmokers</th>\n",
              "      <td>10.303</td>\n",
              "      <td>617.749</td>\n",
              "      <td>641</td>\n",
              "    </tr>\n",
              "  </tbody>\n",
              "</table>\n",
              "</div>\n",
              "      <button class=\"colab-df-convert\" onclick=\"convertToInteractive('df-f1b181c7-e916-4f2b-ac8d-a440eb9e2e88')\"\n",
              "              title=\"Convert this dataframe to an interactive table.\"\n",
              "              style=\"display:none;\">\n",
              "        \n",
              "  <svg xmlns=\"http://www.w3.org/2000/svg\" height=\"24px\"viewBox=\"0 0 24 24\"\n",
              "       width=\"24px\">\n",
              "    <path d=\"M0 0h24v24H0V0z\" fill=\"none\"/>\n",
              "    <path d=\"M18.56 5.44l.94 2.06.94-2.06 2.06-.94-2.06-.94-.94-2.06-.94 2.06-2.06.94zm-11 1L8.5 8.5l.94-2.06 2.06-.94-2.06-.94L8.5 2.5l-.94 2.06-2.06.94zm10 10l.94 2.06.94-2.06 2.06-.94-2.06-.94-.94-2.06-.94 2.06-2.06.94z\"/><path d=\"M17.41 7.96l-1.37-1.37c-.4-.4-.92-.59-1.43-.59-.52 0-1.04.2-1.43.59L10.3 9.45l-7.72 7.72c-.78.78-.78 2.05 0 2.83L4 21.41c.39.39.9.59 1.41.59.51 0 1.02-.2 1.41-.59l7.78-7.78 2.81-2.81c.8-.78.8-2.07 0-2.86zM5.41 20L4 18.59l7.72-7.72 1.47 1.35L5.41 20z\"/>\n",
              "  </svg>\n",
              "      </button>\n",
              "      \n",
              "  <style>\n",
              "    .colab-df-container {\n",
              "      display:flex;\n",
              "      flex-wrap:wrap;\n",
              "      gap: 12px;\n",
              "    }\n",
              "\n",
              "    .colab-df-convert {\n",
              "      background-color: #E8F0FE;\n",
              "      border: none;\n",
              "      border-radius: 50%;\n",
              "      cursor: pointer;\n",
              "      display: none;\n",
              "      fill: #1967D2;\n",
              "      height: 32px;\n",
              "      padding: 0 0 0 0;\n",
              "      width: 32px;\n",
              "    }\n",
              "\n",
              "    .colab-df-convert:hover {\n",
              "      background-color: #E2EBFA;\n",
              "      box-shadow: 0px 1px 2px rgba(60, 64, 67, 0.3), 0px 1px 3px 1px rgba(60, 64, 67, 0.15);\n",
              "      fill: #174EA6;\n",
              "    }\n",
              "\n",
              "    [theme=dark] .colab-df-convert {\n",
              "      background-color: #3B4455;\n",
              "      fill: #D2E3FC;\n",
              "    }\n",
              "\n",
              "    [theme=dark] .colab-df-convert:hover {\n",
              "      background-color: #434B5C;\n",
              "      box-shadow: 0px 1px 3px 1px rgba(0, 0, 0, 0.15);\n",
              "      filter: drop-shadow(0px 1px 2px rgba(0, 0, 0, 0.3));\n",
              "      fill: #FFFFFF;\n",
              "    }\n",
              "  </style>\n",
              "\n",
              "      <script>\n",
              "        const buttonEl =\n",
              "          document.querySelector('#df-f1b181c7-e916-4f2b-ac8d-a440eb9e2e88 button.colab-df-convert');\n",
              "        buttonEl.style.display =\n",
              "          google.colab.kernel.accessAllowed ? 'block' : 'none';\n",
              "\n",
              "        async function convertToInteractive(key) {\n",
              "          const element = document.querySelector('#df-f1b181c7-e916-4f2b-ac8d-a440eb9e2e88');\n",
              "          const dataTable =\n",
              "            await google.colab.kernel.invokeFunction('convertToInteractive',\n",
              "                                                     [key], {});\n",
              "          if (!dataTable) return;\n",
              "\n",
              "          const docLinkHtml = 'Like what you see? Visit the ' +\n",
              "            '<a target=\"_blank\" href=https://colab.research.google.com/notebooks/data_table.ipynb>data table notebook</a>'\n",
              "            + ' to learn more about interactive tables.';\n",
              "          element.innerHTML = '';\n",
              "          dataTable['output_type'] = 'display_data';\n",
              "          await google.colab.output.renderOutput(dataTable, element);\n",
              "          const docLink = document.createElement('div');\n",
              "          docLink.innerHTML = docLinkHtml;\n",
              "          element.appendChild(docLink);\n",
              "        }\n",
              "      </script>\n",
              "    </div>\n",
              "  </div>\n",
              "  "
            ]
          },
          "metadata": {},
          "execution_count": 30
        }
      ],
      "source": [
        "top_10_artist_count_df = df.groupby([\"artistName\"])[[\"Listening Time(Hours)\",\"Listening Time(Minutes)\",\"Count\"]].sum().sort_values(by=\"Count\",ascending=False)\n",
        "top_10_artist_count_df.head(6)"
      ]
    },
    {
      "cell_type": "code",
      "execution_count": null,
      "id": "fd61838c",
      "metadata": {
        "colab": {
          "base_uri": "https://localhost:8080/",
          "height": 405
        },
        "id": "fd61838c",
        "outputId": "695d117d-f300-4901-a7b3-bc28865eaa64"
      },
      "outputs": [
        {
          "output_type": "display_data",
          "data": {
            "text/plain": [
              "<Figure size 648x288 with 1 Axes>"
            ],
            "image/png": "[encoded data removed]"
          },
          "metadata": {
            "needs_background": "light"
          }
        }
      ],
      "source": [
        "fig,ax = plt.subplots(figsize=(9,4))\n",
        "ax.bar(top_10_artist_count_df.head(10).index, top_10_artist_count_df[\"Listening Time(Hours)\"].head(10), color='blue')\n",
        "ax.set(title=\"My Top Artists\", xlabel=\"Artists\", ylabel=\"No of times played\");\n",
        "plt.xticks(rotation=75);"
      ]
    },
    {
      "cell_type": "code",
      "execution_count": null,
      "id": "0e03f854",
      "metadata": {
        "colab": {
          "base_uri": "https://localhost:8080/",
          "height": 342
        },
        "id": "0e03f854",
        "outputId": "51b9da51-ddf0-4742-8aa6-85f0186f3326"
      },
      "outputs": [
        {
          "output_type": "display_data",
          "data": {
            "text/plain": [
              "<Figure size 1440x360 with 2 Axes>"
            ],
            "image/png": "[encoded data removed]"
          },
          "metadata": {
            "needs_background": "light"
          }
        }
      ],
      "source": [
        "fig, (ax1,ax2) = plt.subplots(1,2,figsize=(20,5))\n",
        "\n",
        "#plot 1\n",
        "ax1.bar(top_10_artist_time_df.head(10).index,top_10_artist_time_df[\"Listening Time(Hours)\"].head(10), color=\"green\")\n",
        "ax1.set(title=\"My Top 10 Favourite Artist (based on Hours)\",xlabel=\"Artists\",ylabel=\"No. of Hours Songs Played\");\n",
        "ax1.tick_params(labelrotation=75);\n",
        "ax1.axhline(top_10_artist_time_df[\"Listening Time(Hours)\"][:100].mean(), linestyle=\"--\", color=\"black\")\n",
        "\n",
        "#plot 2\n",
        "ax2.bar(top_10_artist_count_df.head(10).index,top_10_artist_count_df[\"Count\"].head(10), color=\"orange\")\n",
        "ax2.set(title=\"My Top 10 Favourite Artist (based on Counts)\",xlabel=\"Artists\",ylabel=\"No. of Times Songs Played\");\n",
        "ax2.tick_params(labelrotation=75);\n",
        "ax2.axhline(top_10_artist_count_df[\"Count\"][:100].mean(), linestyle=\"--\", color=\"black\");"
      ]
    },
    {
      "cell_type": "markdown",
      "source": [
        "Tracks Exploration\n",
        "\n",
        "---\n",
        "\n"
      ],
      "metadata": {
        "id": "ugQ0UbjyruBF"
      },
      "id": "ugQ0UbjyruBF"
    },
    {
      "cell_type": "code",
      "execution_count": null,
      "id": "caa400c4",
      "metadata": {
        "scrolled": true,
        "colab": {
          "base_uri": "https://localhost:8080/"
        },
        "id": "caa400c4",
        "outputId": "331430a2-e797-4db6-a967-9d3964cfa07e"
      },
      "outputs": [
        {
          "output_type": "execute_result",
          "data": {
            "text/plain": [
              "3.5417628057221964"
            ]
          },
          "metadata": {},
          "execution_count": 34
        }
      ],
      "source": [
        "unique_songs = df[\"trackName\"].nunique()\n",
        "total_songs = df[\"trackName\"].count()\n",
        "unique_songs_percentage = unique_songs/total_songs*100\n",
        "unique_songs_percentage"
      ]
    },
    {
      "cell_type": "code",
      "execution_count": null,
      "id": "6d7f75be",
      "metadata": {
        "colab": {
          "base_uri": "https://localhost:8080/",
          "height": 272
        },
        "id": "6d7f75be",
        "outputId": "4ff5cc7d-c2a7-4706-d32f-951b43665005"
      },
      "outputs": [
        {
          "output_type": "display_data",
          "data": {
            "text/plain": [
              "<Figure size 288x432 with 1 Axes>"
            ],
            "image/png": "[encoded data removed]"
          },
          "metadata": {}
        }
      ],
      "source": [
        "unique_songs_list = np.array([unique_songs, total_songs-unique_songs])\n",
        "unique_songs_list_labels = [\"Unique Songs\", \"Non-Unique Songs\"]\n",
        "\n",
        "fig, ax = plt.subplots(figsize=(4,6))\n",
        "ax.pie(unique_songs_list, labels= unique_songs_list_labels, autopct='%1.1f%%', explode=[0.05,0.05], startangle=180, shadow= True);\n",
        "plt.title(\"Unique Songs!\");"
      ]
    },
    {
      "cell_type": "code",
      "execution_count": null,
      "id": "9c5b5ccf",
      "metadata": {
        "colab": {
          "base_uri": "https://localhost:8080/",
          "height": 269
        },
        "id": "9c5b5ccf",
        "outputId": "3eed5a69-567e-4bc0-ed06-50b1faa99968"
      },
      "outputs": [
        {
          "output_type": "execute_result",
          "data": {
            "text/plain": [
              "                          Listening Time(Hours)  Listening Time(Minutes)  \\\n",
              "UniqueID                                                                   \n",
              "MIIA:Dynasty                              9.447                  568.611   \n",
              "James Arthur:Train Wreck                  9.349                  559.470   \n",
              "Isak Danielson:Broken                     9.265                  556.016   \n",
              "Alina Baraz:To Me                         8.767                  526.096   \n",
              "NF:Paralyzed                              7.067                  424.021   \n",
              "Cary Brothers:Belong                      6.888                  412.917   \n",
              "\n",
              "                          Count  \n",
              "UniqueID                         \n",
              "MIIA:Dynasty                245  \n",
              "James Arthur:Train Wreck    265  \n",
              "Isak Danielson:Broken       239  \n",
              "Alina Baraz:To Me           166  \n",
              "NF:Paralyzed                175  \n",
              "Cary Brothers:Belong        161  "
            ],
            "text/html": [
              "\n",
              "  <div id=\"df-92c169d9-0ca8-447c-abb9-62f175f725ca\">\n",
              "    <div class=\"colab-df-container\">\n",
              "      <div>\n",
              "<style scoped>\n",
              "    .dataframe tbody tr th:only-of-type {\n",
              "        vertical-align: middle;\n",
              "    }\n",
              "\n",
              "    .dataframe tbody tr th {\n",
              "        vertical-align: top;\n",
              "    }\n",
              "\n",
              "    .dataframe thead th {\n",
              "        text-align: right;\n",
              "    }\n",
              "</style>\n",
              "<table border=\"1\" class=\"dataframe\">\n",
              "  <thead>\n",
              "    <tr style=\"text-align: right;\">\n",
              "      <th></th>\n",
              "      <th>Listening Time(Hours)</th>\n",
              "      <th>Listening Time(Minutes)</th>\n",
              "      <th>Count</th>\n",
              "    </tr>\n",
              "    <tr>\n",
              "      <th>UniqueID</th>\n",
              "      <th></th>\n",
              "      <th></th>\n",
              "      <th></th>\n",
              "    </tr>\n",
              "  </thead>\n",
              "  <tbody>\n",
              "    <tr>\n",
              "      <th>MIIA:Dynasty</th>\n",
              "      <td>9.447</td>\n",
              "      <td>568.611</td>\n",
              "      <td>245</td>\n",
              "    </tr>\n",
              "    <tr>\n",
              "      <th>James Arthur:Train Wreck</th>\n",
              "      <td>9.349</td>\n",
              "      <td>559.470</td>\n",
              "      <td>265</td>\n",
              "    </tr>\n",
              "    <tr>\n",
              "      <th>Isak Danielson:Broken</th>\n",
              "      <td>9.265</td>\n",
              "      <td>556.016</td>\n",
              "      <td>239</td>\n",
              "    </tr>\n",
              "    <tr>\n",
              "      <th>Alina Baraz:To Me</th>\n",
              "      <td>8.767</td>\n",
              "      <td>526.096</td>\n",
              "      <td>166</td>\n",
              "    </tr>\n",
              "    <tr>\n",
              "      <th>NF:Paralyzed</th>\n",
              "      <td>7.067</td>\n",
              "      <td>424.021</td>\n",
              "      <td>175</td>\n",
              "    </tr>\n",
              "    <tr>\n",
              "      <th>Cary Brothers:Belong</th>\n",
              "      <td>6.888</td>\n",
              "      <td>412.917</td>\n",
              "      <td>161</td>\n",
              "    </tr>\n",
              "  </tbody>\n",
              "</table>\n",
              "</div>\n",
              "      <button class=\"colab-df-convert\" onclick=\"convertToInteractive('df-92c169d9-0ca8-447c-abb9-62f175f725ca')\"\n",
              "              title=\"Convert this dataframe to an interactive table.\"\n",
              "              style=\"display:none;\">\n",
              "        \n",
              "  <svg xmlns=\"http://www.w3.org/2000/svg\" height=\"24px\"viewBox=\"0 0 24 24\"\n",
              "       width=\"24px\">\n",
              "    <path d=\"M0 0h24v24H0V0z\" fill=\"none\"/>\n",
              "    <path d=\"M18.56 5.44l.94 2.06.94-2.06 2.06-.94-2.06-.94-.94-2.06-.94 2.06-2.06.94zm-11 1L8.5 8.5l.94-2.06 2.06-.94-2.06-.94L8.5 2.5l-.94 2.06-2.06.94zm10 10l.94 2.06.94-2.06 2.06-.94-2.06-.94-.94-2.06-.94 2.06-2.06.94z\"/><path d=\"M17.41 7.96l-1.37-1.37c-.4-.4-.92-.59-1.43-.59-.52 0-1.04.2-1.43.59L10.3 9.45l-7.72 7.72c-.78.78-.78 2.05 0 2.83L4 21.41c.39.39.9.59 1.41.59.51 0 1.02-.2 1.41-.59l7.78-7.78 2.81-2.81c.8-.78.8-2.07 0-2.86zM5.41 20L4 18.59l7.72-7.72 1.47 1.35L5.41 20z\"/>\n",
              "  </svg>\n",
              "      </button>\n",
              "      \n",
              "  <style>\n",
              "    .colab-df-container {\n",
              "      display:flex;\n",
              "      flex-wrap:wrap;\n",
              "      gap: 12px;\n",
              "    }\n",
              "\n",
              "    .colab-df-convert {\n",
              "      background-color: #E8F0FE;\n",
              "      border: none;\n",
              "      border-radius: 50%;\n",
              "      cursor: pointer;\n",
              "      display: none;\n",
              "      fill: #1967D2;\n",
              "      height: 32px;\n",
              "      padding: 0 0 0 0;\n",
              "      width: 32px;\n",
              "    }\n",
              "\n",
              "    .colab-df-convert:hover {\n",
              "      background-color: #E2EBFA;\n",
              "      box-shadow: 0px 1px 2px rgba(60, 64, 67, 0.3), 0px 1px 3px 1px rgba(60, 64, 67, 0.15);\n",
              "      fill: #174EA6;\n",
              "    }\n",
              "\n",
              "    [theme=dark] .colab-df-convert {\n",
              "      background-color: #3B4455;\n",
              "      fill: #D2E3FC;\n",
              "    }\n",
              "\n",
              "    [theme=dark] .colab-df-convert:hover {\n",
              "      background-color: #434B5C;\n",
              "      box-shadow: 0px 1px 3px 1px rgba(0, 0, 0, 0.15);\n",
              "      filter: drop-shadow(0px 1px 2px rgba(0, 0, 0, 0.3));\n",
              "      fill: #FFFFFF;\n",
              "    }\n",
              "  </style>\n",
              "\n",
              "      <script>\n",
              "        const buttonEl =\n",
              "          document.querySelector('#df-92c169d9-0ca8-447c-abb9-62f175f725ca button.colab-df-convert');\n",
              "        buttonEl.style.display =\n",
              "          google.colab.kernel.accessAllowed ? 'block' : 'none';\n",
              "\n",
              "        async function convertToInteractive(key) {\n",
              "          const element = document.querySelector('#df-92c169d9-0ca8-447c-abb9-62f175f725ca');\n",
              "          const dataTable =\n",
              "            await google.colab.kernel.invokeFunction('convertToInteractive',\n",
              "                                                     [key], {});\n",
              "          if (!dataTable) return;\n",
              "\n",
              "          const docLinkHtml = 'Like what you see? Visit the ' +\n",
              "            '<a target=\"_blank\" href=https://colab.research.google.com/notebooks/data_table.ipynb>data table notebook</a>'\n",
              "            + ' to learn more about interactive tables.';\n",
              "          element.innerHTML = '';\n",
              "          dataTable['output_type'] = 'display_data';\n",
              "          await google.colab.output.renderOutput(dataTable, element);\n",
              "          const docLink = document.createElement('div');\n",
              "          docLink.innerHTML = docLinkHtml;\n",
              "          element.appendChild(docLink);\n",
              "        }\n",
              "      </script>\n",
              "    </div>\n",
              "  </div>\n",
              "  "
            ]
          },
          "metadata": {},
          "execution_count": 36
        }
      ],
      "source": [
        "#displaying top 10 artists\n",
        "top_10_tracks_df = df.groupby([\"UniqueID\"])[[\"Listening Time(Hours)\",\"Listening Time(Minutes)\",\"Count\"]].sum().sort_values(by=\"Listening Time(Minutes)\",ascending=False)\n",
        "top_10_tracks_df.head(6)"
      ]
    },
    {
      "cell_type": "code",
      "execution_count": null,
      "id": "cd7d1929",
      "metadata": {
        "colab": {
          "base_uri": "https://localhost:8080/",
          "height": 388
        },
        "id": "cd7d1929",
        "outputId": "cc4505da-c745-430f-9150-470a8b77df4e"
      },
      "outputs": [
        {
          "output_type": "display_data",
          "data": {
            "text/plain": [
              "<Figure size 1440x360 with 2 Axes>"
            ],
            "image/png": "[encoded data removed]"
          },
          "metadata": {
            "needs_background": "light"
          }
        }
      ],
      "source": [
        "fig, (ax1,ax2) = plt.subplots(1,2,figsize=(20,5))\n",
        "\n",
        "# Setting up our first graph\n",
        "ax1.bar(top_10_tracks_df.head(10).index,top_10_tracks_df[\"Listening Time(Hours)\"].head(10), color=\"pink\")\n",
        "ax1.set(title=\"My Top 10 Favourite Songs\",xlabel=\"Artists\",ylabel=\"No. of Hours Songs Played\");\n",
        "ax1.tick_params(labelrotation=90);\n",
        "ax1.axhline(top_10_tracks_df[\"Listening Time(Hours)\"][:100].mean(), linestyle=\"--\", color=\"black\")\n",
        "\n",
        "# Setting up our second graph\n",
        "ax2.bar(top_10_tracks_df.head(10).index,top_10_tracks_df[\"Count\"].head(10), color=\"gray\")\n",
        "ax2.set(title=\"My Top 10 Favourite Songs\",xlabel=\"Artists\",ylabel=\"No. of Times Songs Played\");\n",
        "ax2.tick_params(labelrotation=90);\n",
        "ax2.axhline(top_10_tracks_df[\"Count\"][:100].mean(), linestyle=\"--\", color=\"r\");"
      ]
    },
    {
      "cell_type": "markdown",
      "source": [
        "Day Wise Usage\n",
        "\n",
        "---\n",
        "\n"
      ],
      "metadata": {
        "id": "159V0Tmdrylv"
      },
      "id": "159V0Tmdrylv"
    },
    {
      "cell_type": "code",
      "execution_count": null,
      "id": "bbd72c5d",
      "metadata": {
        "colab": {
          "base_uri": "https://localhost:8080/"
        },
        "id": "bbd72c5d",
        "outputId": "872b5b67-7a39-4480-8555-9a041404a96f"
      },
      "outputs": [
        {
          "output_type": "execute_result",
          "data": {
            "text/plain": [
              "Friday       7002\n",
              "Monday       6222\n",
              "Saturday     6099\n",
              "Thursday     6026\n",
              "Tuesday      6020\n",
              "Wednesday    6018\n",
              "Sunday       5953\n",
              "Name: day-name, dtype: int64"
            ]
          },
          "metadata": {},
          "execution_count": 39
        }
      ],
      "source": [
        "df[\"day-name\"].value_counts()"
      ]
    },
    {
      "cell_type": "code",
      "execution_count": null,
      "id": "96eb72ca",
      "metadata": {
        "colab": {
          "base_uri": "https://localhost:8080/"
        },
        "id": "96eb72ca",
        "outputId": "190979a3-b626-4a0b-babe-eb95e1b2c5aa"
      },
      "outputs": [
        {
          "output_type": "execute_result",
          "data": {
            "text/plain": [
              "Index(['Friday', 'Monday', 'Saturday', 'Thursday', 'Tuesday', 'Wednesday',\n",
              "       'Sunday'],\n",
              "      dtype='object')"
            ]
          },
          "metadata": {},
          "execution_count": 40
        }
      ],
      "source": [
        "df[\"day-name\"].value_counts().index"
      ]
    },
    {
      "cell_type": "code",
      "execution_count": null,
      "id": "1fb5587a",
      "metadata": {
        "colab": {
          "base_uri": "https://localhost:8080/",
          "height": 272
        },
        "id": "1fb5587a",
        "outputId": "f289c56d-b77f-4e0d-ff79-c3f8fd7f37d2"
      },
      "outputs": [
        {
          "output_type": "display_data",
          "data": {
            "text/plain": [
              "<Figure size 288x432 with 1 Axes>"
            ],
            "image/png": "[encoded data removed]"
          },
          "metadata": {}
        }
      ],
      "source": [
        "fig, ax = plt.subplots(figsize=(4,6))\n",
        "ax.pie(df[\"day-name\"].value_counts(), labels=df[\"day-name\"].value_counts().index, autopct='%1.1f%%', startangle=180, shadow = True);\n",
        "ax.set(title=\"Day wise % of Spotify Streaming\");"
      ]
    },
    {
      "cell_type": "code",
      "execution_count": null,
      "id": "b82d5430",
      "metadata": {
        "id": "b82d5430"
      },
      "outputs": [],
      "source": [
        "#Average Usage over a day"
      ]
    },
    {
      "cell_type": "code",
      "execution_count": null,
      "id": "20b5fa35",
      "metadata": {
        "colab": {
          "base_uri": "https://localhost:8080/",
          "height": 428
        },
        "id": "20b5fa35",
        "outputId": "879c19aa-b3ad-4fb1-e750-6aad3bc8495f"
      },
      "outputs": [
        {
          "output_type": "execute_result",
          "data": {
            "text/plain": [
              "<matplotlib.axes._subplots.AxesSubplot at 0x7fb9565076d0>"
            ]
          },
          "metadata": {},
          "execution_count": 43
        },
        {
          "output_type": "display_data",
          "data": {
            "text/plain": [
              "<Figure size 864x432 with 1 Axes>"
            ],
            "image/png": "[encoded data removed]"
          },
          "metadata": {
            "needs_background": "light"
          }
        }
      ],
      "source": [
        "fig, ax = plt.subplots(figsize=(12,6))\n",
        "ax.set(title=\"Average Distribution of Streaming Over a Day\",xlabel=\"Hours (in 24 hour format)\", ylabel=\"Songs Played\")\n",
        "sns.histplot(df['hours'], bins= 24, kde=True, color='darkblue')\n",
        "#kde -> curvey line showing average"
      ]
    },
    {
      "cell_type": "code",
      "execution_count": null,
      "id": "6d503a44",
      "metadata": {
        "colab": {
          "base_uri": "https://localhost:8080/",
          "height": 356
        },
        "id": "6d503a44",
        "outputId": "c4654ae0-cfc8-4a97-d9d1-5fd6279d629d"
      },
      "outputs": [
        {
          "output_type": "display_data",
          "data": {
            "text/plain": [
              "<Figure size 648x360 with 1 Axes>"
            ],
            "image/png": "[encoded data removed]"
          },
          "metadata": {
            "needs_background": "light"
          }
        }
      ],
      "source": [
        "#fig, ax = plt.subplots(figsize=(12,6))\n",
        "\n",
        "ax = sns.countplot(y= df[\"month\"])\n",
        "ax.set(title=\"Average Spotify usage for an year\", xlabel=\"Songs Played in Counts\", ylabel=\"Months (1-12)\");"
      ]
    },
    {
      "cell_type": "code",
      "execution_count": null,
      "id": "b6efc578",
      "metadata": {
        "id": "b6efc578"
      },
      "outputs": [],
      "source": [
        "#Questions\n",
        "#These questions can be exploratory, analytical or formative."
      ]
    },
    {
      "cell_type": "code",
      "execution_count": null,
      "id": "57fbb9e9",
      "metadata": {
        "colab": {
          "base_uri": "https://localhost:8080/"
        },
        "id": "57fbb9e9",
        "outputId": "25cfa8cf-084b-42e7-a40b-7c5632937b3e"
      },
      "outputs": [
        {
          "output_type": "execute_result",
          "data": {
            "text/plain": [
              "963.8190000000001"
            ]
          },
          "metadata": {},
          "execution_count": 46
        }
      ],
      "source": [
        "time_spent_hours = df[\"Listening Time(Hours)\"].sum() # Summation of all \n",
        "time_spent_hours"
      ]
    },
    {
      "cell_type": "code",
      "execution_count": null,
      "id": "b2525b4e",
      "metadata": {
        "id": "b2525b4e"
      },
      "outputs": [],
      "source": [
        "#Confused what happened below.. next 4"
      ]
    },
    {
      "cell_type": "code",
      "execution_count": null,
      "id": "f1347b44",
      "metadata": {
        "id": "f1347b44"
      },
      "outputs": [],
      "source": [
        "date_df = df[\"Play-Time\"] # Making a new dataset of time only"
      ]
    },
    {
      "cell_type": "code",
      "execution_count": null,
      "id": "9ebf2caf",
      "metadata": {
        "colab": {
          "base_uri": "https://localhost:8080/"
        },
        "id": "9ebf2caf",
        "outputId": "6377d5fa-cbe7-4dae-fcb9-d6f72e677b08"
      },
      "outputs": [
        {
          "output_type": "execute_result",
          "data": {
            "text/plain": [
              "2756.583333333333"
            ]
          },
          "metadata": {},
          "execution_count": 49
        }
      ],
      "source": [
        "time_difference = (date_df.iloc[10803] - date_df.iloc[0]) / np.timedelta64(1,\"D\") # Calulating total possible days in days\n",
        "time_difference_hours = time_difference*24 # Converting that in hours by multiplying with 24\n",
        "time_difference_hours"
      ]
    },
    {
      "cell_type": "code",
      "execution_count": null,
      "id": "4004fcad",
      "metadata": {
        "colab": {
          "base_uri": "https://localhost:8080/"
        },
        "id": "4004fcad",
        "outputId": "d6e9f31b-81e1-404a-d3ae-19e454fa2ede"
      },
      "outputs": [
        {
          "output_type": "execute_result",
          "data": {
            "text/plain": [
              "34.96426131382449"
            ]
          },
          "metadata": {},
          "execution_count": 50
        }
      ],
      "source": [
        "time_spent_percentage = time_spent_hours/time_difference_hours*100\n",
        "time_spent_percentage\n"
      ]
    },
    {
      "cell_type": "code",
      "execution_count": null,
      "id": "be9abcdc",
      "metadata": {
        "colab": {
          "base_uri": "https://localhost:8080/",
          "height": 375
        },
        "id": "be9abcdc",
        "outputId": "dbba8d30-29d6-4a39-f2ca-fde932239c03"
      },
      "outputs": [
        {
          "output_type": "display_data",
          "data": {
            "text/plain": [
              "<Figure size 864x432 with 1 Axes>"
            ],
            "image/png": "[encoded data removed]"
          },
          "metadata": {}
        }
      ],
      "source": [
        "hours_spent_list = np.array([time_spent_hours, time_difference_hours-time_spent_hours])\n",
        "hours_spent_list_labels = [\" Actual Hours Spent\", \"Possible Hours\"]\n",
        "\n",
        "fig, ax = plt.subplots(figsize=(12,6))\n",
        "ax.pie(hours_spent_list, labels= hours_spent_list_labels, autopct='%1.1f%%',  explode=[0.2,0.2], startangle=180, shadow = True);\n",
        "plt.title(\"Hours Spent Percentage\");"
      ]
    },
    {
      "cell_type": "code",
      "execution_count": null,
      "id": "d23565d0",
      "metadata": {
        "colab": {
          "base_uri": "https://localhost:8080/"
        },
        "id": "d23565d0",
        "outputId": "faf6530e-63c6-4714-aabb-011ce47640ed"
      },
      "outputs": [
        {
          "output_type": "execute_result",
          "data": {
            "text/plain": [
              "114.85763888888889"
            ]
          },
          "metadata": {},
          "execution_count": 52
        }
      ],
      "source": [
        "#Total Songs played daily\n",
        "total_songs = df[\"trackName\"].count() # Total Songs played\n",
        "time_difference # Total days when I used Spotify"
      ]
    },
    {
      "cell_type": "code",
      "execution_count": null,
      "id": "b142fe4b",
      "metadata": {
        "colab": {
          "base_uri": "https://localhost:8080/"
        },
        "id": "b142fe4b",
        "outputId": "93a947ff-9dec-478a-9f54-1f2a7be4660d"
      },
      "outputs": [
        {
          "output_type": "execute_result",
          "data": {
            "text/plain": [
              "377.0"
            ]
          },
          "metadata": {},
          "execution_count": 53
        }
      ],
      "source": [
        "average_songs_played_daily = (total_songs / time_difference).round()\n",
        "average_songs_played_daily"
      ]
    },
    {
      "cell_type": "code",
      "execution_count": null,
      "id": "aa38f874",
      "metadata": {
        "colab": {
          "base_uri": "https://localhost:8080/",
          "height": 112
        },
        "id": "aa38f874",
        "outputId": "4ac6a1b4-794d-4cbd-f561-eacd44b79db1"
      },
      "outputs": [
        {
          "output_type": "execute_result",
          "data": {
            "text/plain": [
              "            Count\n",
              "date             \n",
              "2020-12-31    269"
            ],
            "text/html": [
              "\n",
              "  <div id=\"df-87912406-603d-4e04-909b-005199323752\">\n",
              "    <div class=\"colab-df-container\">\n",
              "      <div>\n",
              "<style scoped>\n",
              "    .dataframe tbody tr th:only-of-type {\n",
              "        vertical-align: middle;\n",
              "    }\n",
              "\n",
              "    .dataframe tbody tr th {\n",
              "        vertical-align: top;\n",
              "    }\n",
              "\n",
              "    .dataframe thead th {\n",
              "        text-align: right;\n",
              "    }\n",
              "</style>\n",
              "<table border=\"1\" class=\"dataframe\">\n",
              "  <thead>\n",
              "    <tr style=\"text-align: right;\">\n",
              "      <th></th>\n",
              "      <th>Count</th>\n",
              "    </tr>\n",
              "    <tr>\n",
              "      <th>date</th>\n",
              "      <th></th>\n",
              "    </tr>\n",
              "  </thead>\n",
              "  <tbody>\n",
              "    <tr>\n",
              "      <th>2020-12-31</th>\n",
              "      <td>269</td>\n",
              "    </tr>\n",
              "  </tbody>\n",
              "</table>\n",
              "</div>\n",
              "      <button class=\"colab-df-convert\" onclick=\"convertToInteractive('df-87912406-603d-4e04-909b-005199323752')\"\n",
              "              title=\"Convert this dataframe to an interactive table.\"\n",
              "              style=\"display:none;\">\n",
              "        \n",
              "  <svg xmlns=\"http://www.w3.org/2000/svg\" height=\"24px\"viewBox=\"0 0 24 24\"\n",
              "       width=\"24px\">\n",
              "    <path d=\"M0 0h24v24H0V0z\" fill=\"none\"/>\n",
              "    <path d=\"M18.56 5.44l.94 2.06.94-2.06 2.06-.94-2.06-.94-.94-2.06-.94 2.06-2.06.94zm-11 1L8.5 8.5l.94-2.06 2.06-.94-2.06-.94L8.5 2.5l-.94 2.06-2.06.94zm10 10l.94 2.06.94-2.06 2.06-.94-2.06-.94-.94-2.06-.94 2.06-2.06.94z\"/><path d=\"M17.41 7.96l-1.37-1.37c-.4-.4-.92-.59-1.43-.59-.52 0-1.04.2-1.43.59L10.3 9.45l-7.72 7.72c-.78.78-.78 2.05 0 2.83L4 21.41c.39.39.9.59 1.41.59.51 0 1.02-.2 1.41-.59l7.78-7.78 2.81-2.81c.8-.78.8-2.07 0-2.86zM5.41 20L4 18.59l7.72-7.72 1.47 1.35L5.41 20z\"/>\n",
              "  </svg>\n",
              "      </button>\n",
              "      \n",
              "  <style>\n",
              "    .colab-df-container {\n",
              "      display:flex;\n",
              "      flex-wrap:wrap;\n",
              "      gap: 12px;\n",
              "    }\n",
              "\n",
              "    .colab-df-convert {\n",
              "      background-color: #E8F0FE;\n",
              "      border: none;\n",
              "      border-radius: 50%;\n",
              "      cursor: pointer;\n",
              "      display: none;\n",
              "      fill: #1967D2;\n",
              "      height: 32px;\n",
              "      padding: 0 0 0 0;\n",
              "      width: 32px;\n",
              "    }\n",
              "\n",
              "    .colab-df-convert:hover {\n",
              "      background-color: #E2EBFA;\n",
              "      box-shadow: 0px 1px 2px rgba(60, 64, 67, 0.3), 0px 1px 3px 1px rgba(60, 64, 67, 0.15);\n",
              "      fill: #174EA6;\n",
              "    }\n",
              "\n",
              "    [theme=dark] .colab-df-convert {\n",
              "      background-color: #3B4455;\n",
              "      fill: #D2E3FC;\n",
              "    }\n",
              "\n",
              "    [theme=dark] .colab-df-convert:hover {\n",
              "      background-color: #434B5C;\n",
              "      box-shadow: 0px 1px 3px 1px rgba(0, 0, 0, 0.15);\n",
              "      filter: drop-shadow(0px 1px 2px rgba(0, 0, 0, 0.3));\n",
              "      fill: #FFFFFF;\n",
              "    }\n",
              "  </style>\n",
              "\n",
              "      <script>\n",
              "        const buttonEl =\n",
              "          document.querySelector('#df-87912406-603d-4e04-909b-005199323752 button.colab-df-convert');\n",
              "        buttonEl.style.display =\n",
              "          google.colab.kernel.accessAllowed ? 'block' : 'none';\n",
              "\n",
              "        async function convertToInteractive(key) {\n",
              "          const element = document.querySelector('#df-87912406-603d-4e04-909b-005199323752');\n",
              "          const dataTable =\n",
              "            await google.colab.kernel.invokeFunction('convertToInteractive',\n",
              "                                                     [key], {});\n",
              "          if (!dataTable) return;\n",
              "\n",
              "          const docLinkHtml = 'Like what you see? Visit the ' +\n",
              "            '<a target=\"_blank\" href=https://colab.research.google.com/notebooks/data_table.ipynb>data table notebook</a>'\n",
              "            + ' to learn more about interactive tables.';\n",
              "          element.innerHTML = '';\n",
              "          dataTable['output_type'] = 'display_data';\n",
              "          await google.colab.output.renderOutput(dataTable, element);\n",
              "          const docLink = document.createElement('div');\n",
              "          docLink.innerHTML = docLinkHtml;\n",
              "          element.appendChild(docLink);\n",
              "        }\n",
              "      </script>\n",
              "    </div>\n",
              "  </div>\n",
              "  "
            ]
          },
          "metadata": {},
          "execution_count": 54
        }
      ],
      "source": [
        "#most songs played on which date\n",
        "df[\"date\"] = df[\"Play-Time\"].dt.date # Creating a new column with date\n",
        "most_songs = df.groupby([\"date\"])[[\"Count\"]].sum().sort_values(by=\"Count\", ascending=False)\n",
        "most_songs.head(1)"
      ]
    },
    {
      "cell_type": "code",
      "execution_count": null,
      "id": "7cabca36",
      "metadata": {
        "colab": {
          "base_uri": "https://localhost:8080/",
          "height": 428
        },
        "id": "7cabca36",
        "outputId": "46f896f6-4821-47f0-c1fd-c2822a3591c1"
      },
      "outputs": [
        {
          "output_type": "execute_result",
          "data": {
            "text/plain": [
              "<matplotlib.lines.Line2D at 0x7fb9565c1910>"
            ]
          },
          "metadata": {},
          "execution_count": 55
        },
        {
          "output_type": "display_data",
          "data": {
            "text/plain": [
              "<Figure size 864x432 with 1 Axes>"
            ],
            "image/png": "[encoded data removed]"
          },
          "metadata": {
            "needs_background": "light"
          }
        }
      ],
      "source": [
        "fig, ax = plt.subplots(figsize=(12,6))\n",
        "ax.scatter(most_songs.index, most_songs[\"Count\"])\n",
        "ax.set(title=\"Maximum number of songs played in a day\",xlabel=\"Date\", ylabel=\"Count\")\n",
        "ax.axhline(most_songs[\"Count\"].mean(), linestyle='-', color=\"r\")"
      ]
    },
    {
      "cell_type": "code",
      "execution_count": null,
      "id": "c362dc3c",
      "metadata": {
        "scrolled": true,
        "colab": {
          "base_uri": "https://localhost:8080/"
        },
        "id": "c362dc3c",
        "outputId": "691c4ef1-f894-41a2-8ea0-b100e14df2ee"
      },
      "outputs": [
        {
          "output_type": "execute_result",
          "data": {
            "text/plain": [
              "artistName\n",
              "Taylor Swift    1882\n",
              "Ruelle          1231\n",
              "Halsey           814\n",
              "James Arthur     804\n",
              "Alina Baraz      719\n",
              "                ... \n",
              "Ankit Tiwari     115\n",
              "Harry Styles     115\n",
              "Lola Blanc       114\n",
              "Loren Gray       113\n",
              "Dawn Golden      113\n",
              "Name: Count, Length: 100, dtype: int64"
            ]
          },
          "metadata": {},
          "execution_count": 56
        }
      ],
      "source": [
        "top_10_artists=df.groupby([\"artistName\"])[\"Count\"].count()\n",
        "top_10_artists.sort_values(ascending=False).head(100)"
      ]
    },
    {
      "cell_type": "code",
      "execution_count": null,
      "id": "154b7cea",
      "metadata": {
        "colab": {
          "base_uri": "https://localhost:8080/",
          "height": 455
        },
        "id": "154b7cea",
        "outputId": "8601f981-f81b-4b6d-87b9-615a938ae5ac"
      },
      "outputs": [
        {
          "output_type": "execute_result",
          "data": {
            "text/plain": [
              "                                                                       Count\n",
              "artistName          trackName                                               \n",
              "James Arthur        Train Wreck                                          265\n",
              "MIIA                Dynasty                                              245\n",
              "Isak Danielson      Broken                                               239\n",
              "AG                  Animal                                               183\n",
              "Zoe Wees            Control                                              178\n",
              "...                                                                      ...\n",
              "SYML                Where's My Love                                       93\n",
              "Sam Tinnesz         Play with Fire (feat. Yacht Money) - Extended Mix     93\n",
              "Andrew Belle        In My Veins - Feat. Erin Mccarley                     93\n",
              "Of Monsters and Men Thousand Eyes                                         92\n",
              "Malia J             Smells Like Teen Spirit                               92\n",
              "\n",
              "[100 rows x 1 columns]"
            ],
            "text/html": [
              "\n",
              "  <div id=\"df-8b6bcf89-feb2-48e2-a06a-3e3b6ab99f7d\">\n",
              "    <div class=\"colab-df-container\">\n",
              "      <div>\n",
              "<style scoped>\n",
              "    .dataframe tbody tr th:only-of-type {\n",
              "        vertical-align: middle;\n",
              "    }\n",
              "\n",
              "    .dataframe tbody tr th {\n",
              "        vertical-align: top;\n",
              "    }\n",
              "\n",
              "    .dataframe thead th {\n",
              "        text-align: right;\n",
              "    }\n",
              "</style>\n",
              "<table border=\"1\" class=\"dataframe\">\n",
              "  <thead>\n",
              "    <tr style=\"text-align: right;\">\n",
              "      <th></th>\n",
              "      <th></th>\n",
              "      <th>Count</th>\n",
              "    </tr>\n",
              "    <tr>\n",
              "      <th>artistName</th>\n",
              "      <th>trackName</th>\n",
              "      <th></th>\n",
              "    </tr>\n",
              "  </thead>\n",
              "  <tbody>\n",
              "    <tr>\n",
              "      <th>James Arthur</th>\n",
              "      <th>Train Wreck</th>\n",
              "      <td>265</td>\n",
              "    </tr>\n",
              "    <tr>\n",
              "      <th>MIIA</th>\n",
              "      <th>Dynasty</th>\n",
              "      <td>245</td>\n",
              "    </tr>\n",
              "    <tr>\n",
              "      <th>Isak Danielson</th>\n",
              "      <th>Broken</th>\n",
              "      <td>239</td>\n",
              "    </tr>\n",
              "    <tr>\n",
              "      <th>AG</th>\n",
              "      <th>Animal</th>\n",
              "      <td>183</td>\n",
              "    </tr>\n",
              "    <tr>\n",
              "      <th>Zoe Wees</th>\n",
              "      <th>Control</th>\n",
              "      <td>178</td>\n",
              "    </tr>\n",
              "    <tr>\n",
              "      <th>...</th>\n",
              "      <th>...</th>\n",
              "      <td>...</td>\n",
              "    </tr>\n",
              "    <tr>\n",
              "      <th>SYML</th>\n",
              "      <th>Where's My Love</th>\n",
              "      <td>93</td>\n",
              "    </tr>\n",
              "    <tr>\n",
              "      <th>Sam Tinnesz</th>\n",
              "      <th>Play with Fire (feat. Yacht Money) - Extended Mix</th>\n",
              "      <td>93</td>\n",
              "    </tr>\n",
              "    <tr>\n",
              "      <th>Andrew Belle</th>\n",
              "      <th>In My Veins - Feat. Erin Mccarley</th>\n",
              "      <td>93</td>\n",
              "    </tr>\n",
              "    <tr>\n",
              "      <th>Of Monsters and Men</th>\n",
              "      <th>Thousand Eyes</th>\n",
              "      <td>92</td>\n",
              "    </tr>\n",
              "    <tr>\n",
              "      <th>Malia J</th>\n",
              "      <th>Smells Like Teen Spirit</th>\n",
              "      <td>92</td>\n",
              "    </tr>\n",
              "  </tbody>\n",
              "</table>\n",
              "<p>100 rows × 1 columns</p>\n",
              "</div>\n",
              "      <button class=\"colab-df-convert\" onclick=\"convertToInteractive('df-8b6bcf89-feb2-48e2-a06a-3e3b6ab99f7d')\"\n",
              "              title=\"Convert this dataframe to an interactive table.\"\n",
              "              style=\"display:none;\">\n",
              "        \n",
              "  <svg xmlns=\"http://www.w3.org/2000/svg\" height=\"24px\"viewBox=\"0 0 24 24\"\n",
              "       width=\"24px\">\n",
              "    <path d=\"M0 0h24v24H0V0z\" fill=\"none\"/>\n",
              "    <path d=\"M18.56 5.44l.94 2.06.94-2.06 2.06-.94-2.06-.94-.94-2.06-.94 2.06-2.06.94zm-11 1L8.5 8.5l.94-2.06 2.06-.94-2.06-.94L8.5 2.5l-.94 2.06-2.06.94zm10 10l.94 2.06.94-2.06 2.06-.94-2.06-.94-.94-2.06-.94 2.06-2.06.94z\"/><path d=\"M17.41 7.96l-1.37-1.37c-.4-.4-.92-.59-1.43-.59-.52 0-1.04.2-1.43.59L10.3 9.45l-7.72 7.72c-.78.78-.78 2.05 0 2.83L4 21.41c.39.39.9.59 1.41.59.51 0 1.02-.2 1.41-.59l7.78-7.78 2.81-2.81c.8-.78.8-2.07 0-2.86zM5.41 20L4 18.59l7.72-7.72 1.47 1.35L5.41 20z\"/>\n",
              "  </svg>\n",
              "      </button>\n",
              "      \n",
              "  <style>\n",
              "    .colab-df-container {\n",
              "      display:flex;\n",
              "      flex-wrap:wrap;\n",
              "      gap: 12px;\n",
              "    }\n",
              "\n",
              "    .colab-df-convert {\n",
              "      background-color: #E8F0FE;\n",
              "      border: none;\n",
              "      border-radius: 50%;\n",
              "      cursor: pointer;\n",
              "      display: none;\n",
              "      fill: #1967D2;\n",
              "      height: 32px;\n",
              "      padding: 0 0 0 0;\n",
              "      width: 32px;\n",
              "    }\n",
              "\n",
              "    .colab-df-convert:hover {\n",
              "      background-color: #E2EBFA;\n",
              "      box-shadow: 0px 1px 2px rgba(60, 64, 67, 0.3), 0px 1px 3px 1px rgba(60, 64, 67, 0.15);\n",
              "      fill: #174EA6;\n",
              "    }\n",
              "\n",
              "    [theme=dark] .colab-df-convert {\n",
              "      background-color: #3B4455;\n",
              "      fill: #D2E3FC;\n",
              "    }\n",
              "\n",
              "    [theme=dark] .colab-df-convert:hover {\n",
              "      background-color: #434B5C;\n",
              "      box-shadow: 0px 1px 3px 1px rgba(0, 0, 0, 0.15);\n",
              "      filter: drop-shadow(0px 1px 2px rgba(0, 0, 0, 0.3));\n",
              "      fill: #FFFFFF;\n",
              "    }\n",
              "  </style>\n",
              "\n",
              "      <script>\n",
              "        const buttonEl =\n",
              "          document.querySelector('#df-8b6bcf89-feb2-48e2-a06a-3e3b6ab99f7d button.colab-df-convert');\n",
              "        buttonEl.style.display =\n",
              "          google.colab.kernel.accessAllowed ? 'block' : 'none';\n",
              "\n",
              "        async function convertToInteractive(key) {\n",
              "          const element = document.querySelector('#df-8b6bcf89-feb2-48e2-a06a-3e3b6ab99f7d');\n",
              "          const dataTable =\n",
              "            await google.colab.kernel.invokeFunction('convertToInteractive',\n",
              "                                                     [key], {});\n",
              "          if (!dataTable) return;\n",
              "\n",
              "          const docLinkHtml = 'Like what you see? Visit the ' +\n",
              "            '<a target=\"_blank\" href=https://colab.research.google.com/notebooks/data_table.ipynb>data table notebook</a>'\n",
              "            + ' to learn more about interactive tables.';\n",
              "          element.innerHTML = '';\n",
              "          dataTable['output_type'] = 'display_data';\n",
              "          await google.colab.output.renderOutput(dataTable, element);\n",
              "          const docLink = document.createElement('div');\n",
              "          docLink.innerHTML = docLinkHtml;\n",
              "          element.appendChild(docLink);\n",
              "        }\n",
              "      </script>\n",
              "    </div>\n",
              "  </div>\n",
              "  "
            ]
          },
          "metadata": {},
          "execution_count": 57
        }
      ],
      "source": [
        "my_fav_artist_playlist = df.groupby([\"artistName\",\"trackName\"])[[\"Count\"]].count().sort_values(by=\"Count\",ascending=False).head(100)\n",
        "my_fav_artist_playlist"
      ]
    },
    {
      "cell_type": "code",
      "execution_count": null,
      "id": "e189ce10",
      "metadata": {
        "colab": {
          "base_uri": "https://localhost:8080/",
          "height": 237
        },
        "id": "e189ce10",
        "outputId": "bb1a5e36-f710-480d-ae42-920857f4b6fb"
      },
      "outputs": [
        {
          "output_type": "execute_result",
          "data": {
            "text/plain": [
              "day-name  Friday  Monday  Saturday  Sunday  Thursday  Tuesday  Wednesday\n",
              "hours                                                                   \n",
              "0            NaN     6.0       2.0     1.0       1.0      NaN        NaN\n",
              "1            NaN    21.0      37.0     NaN       NaN      9.0        NaN\n",
              "2           63.0    17.0      85.0    31.0      45.0     23.0       30.0\n",
              "3           81.0    73.0     118.0    23.0      52.0     81.0       68.0\n",
              "4          168.0    74.0      93.0    64.0      60.0    154.0       61.0"
            ],
            "text/html": [
              "\n",
              "  <div id=\"df-5ebb2d32-094a-4497-bdfa-a4b225c2503f\">\n",
              "    <div class=\"colab-df-container\">\n",
              "      <div>\n",
              "<style scoped>\n",
              "    .dataframe tbody tr th:only-of-type {\n",
              "        vertical-align: middle;\n",
              "    }\n",
              "\n",
              "    .dataframe tbody tr th {\n",
              "        vertical-align: top;\n",
              "    }\n",
              "\n",
              "    .dataframe thead th {\n",
              "        text-align: right;\n",
              "    }\n",
              "</style>\n",
              "<table border=\"1\" class=\"dataframe\">\n",
              "  <thead>\n",
              "    <tr style=\"text-align: right;\">\n",
              "      <th>day-name</th>\n",
              "      <th>Friday</th>\n",
              "      <th>Monday</th>\n",
              "      <th>Saturday</th>\n",
              "      <th>Sunday</th>\n",
              "      <th>Thursday</th>\n",
              "      <th>Tuesday</th>\n",
              "      <th>Wednesday</th>\n",
              "    </tr>\n",
              "    <tr>\n",
              "      <th>hours</th>\n",
              "      <th></th>\n",
              "      <th></th>\n",
              "      <th></th>\n",
              "      <th></th>\n",
              "      <th></th>\n",
              "      <th></th>\n",
              "      <th></th>\n",
              "    </tr>\n",
              "  </thead>\n",
              "  <tbody>\n",
              "    <tr>\n",
              "      <th>0</th>\n",
              "      <td>NaN</td>\n",
              "      <td>6.0</td>\n",
              "      <td>2.0</td>\n",
              "      <td>1.0</td>\n",
              "      <td>1.0</td>\n",
              "      <td>NaN</td>\n",
              "      <td>NaN</td>\n",
              "    </tr>\n",
              "    <tr>\n",
              "      <th>1</th>\n",
              "      <td>NaN</td>\n",
              "      <td>21.0</td>\n",
              "      <td>37.0</td>\n",
              "      <td>NaN</td>\n",
              "      <td>NaN</td>\n",
              "      <td>9.0</td>\n",
              "      <td>NaN</td>\n",
              "    </tr>\n",
              "    <tr>\n",
              "      <th>2</th>\n",
              "      <td>63.0</td>\n",
              "      <td>17.0</td>\n",
              "      <td>85.0</td>\n",
              "      <td>31.0</td>\n",
              "      <td>45.0</td>\n",
              "      <td>23.0</td>\n",
              "      <td>30.0</td>\n",
              "    </tr>\n",
              "    <tr>\n",
              "      <th>3</th>\n",
              "      <td>81.0</td>\n",
              "      <td>73.0</td>\n",
              "      <td>118.0</td>\n",
              "      <td>23.0</td>\n",
              "      <td>52.0</td>\n",
              "      <td>81.0</td>\n",
              "      <td>68.0</td>\n",
              "    </tr>\n",
              "    <tr>\n",
              "      <th>4</th>\n",
              "      <td>168.0</td>\n",
              "      <td>74.0</td>\n",
              "      <td>93.0</td>\n",
              "      <td>64.0</td>\n",
              "      <td>60.0</td>\n",
              "      <td>154.0</td>\n",
              "      <td>61.0</td>\n",
              "    </tr>\n",
              "  </tbody>\n",
              "</table>\n",
              "</div>\n",
              "      <button class=\"colab-df-convert\" onclick=\"convertToInteractive('df-5ebb2d32-094a-4497-bdfa-a4b225c2503f')\"\n",
              "              title=\"Convert this dataframe to an interactive table.\"\n",
              "              style=\"display:none;\">\n",
              "        \n",
              "  <svg xmlns=\"http://www.w3.org/2000/svg\" height=\"24px\"viewBox=\"0 0 24 24\"\n",
              "       width=\"24px\">\n",
              "    <path d=\"M0 0h24v24H0V0z\" fill=\"none\"/>\n",
              "    <path d=\"M18.56 5.44l.94 2.06.94-2.06 2.06-.94-2.06-.94-.94-2.06-.94 2.06-2.06.94zm-11 1L8.5 8.5l.94-2.06 2.06-.94-2.06-.94L8.5 2.5l-.94 2.06-2.06.94zm10 10l.94 2.06.94-2.06 2.06-.94-2.06-.94-.94-2.06-.94 2.06-2.06.94z\"/><path d=\"M17.41 7.96l-1.37-1.37c-.4-.4-.92-.59-1.43-.59-.52 0-1.04.2-1.43.59L10.3 9.45l-7.72 7.72c-.78.78-.78 2.05 0 2.83L4 21.41c.39.39.9.59 1.41.59.51 0 1.02-.2 1.41-.59l7.78-7.78 2.81-2.81c.8-.78.8-2.07 0-2.86zM5.41 20L4 18.59l7.72-7.72 1.47 1.35L5.41 20z\"/>\n",
              "  </svg>\n",
              "      </button>\n",
              "      \n",
              "  <style>\n",
              "    .colab-df-container {\n",
              "      display:flex;\n",
              "      flex-wrap:wrap;\n",
              "      gap: 12px;\n",
              "    }\n",
              "\n",
              "    .colab-df-convert {\n",
              "      background-color: #E8F0FE;\n",
              "      border: none;\n",
              "      border-radius: 50%;\n",
              "      cursor: pointer;\n",
              "      display: none;\n",
              "      fill: #1967D2;\n",
              "      height: 32px;\n",
              "      padding: 0 0 0 0;\n",
              "      width: 32px;\n",
              "    }\n",
              "\n",
              "    .colab-df-convert:hover {\n",
              "      background-color: #E2EBFA;\n",
              "      box-shadow: 0px 1px 2px rgba(60, 64, 67, 0.3), 0px 1px 3px 1px rgba(60, 64, 67, 0.15);\n",
              "      fill: #174EA6;\n",
              "    }\n",
              "\n",
              "    [theme=dark] .colab-df-convert {\n",
              "      background-color: #3B4455;\n",
              "      fill: #D2E3FC;\n",
              "    }\n",
              "\n",
              "    [theme=dark] .colab-df-convert:hover {\n",
              "      background-color: #434B5C;\n",
              "      box-shadow: 0px 1px 3px 1px rgba(0, 0, 0, 0.15);\n",
              "      filter: drop-shadow(0px 1px 2px rgba(0, 0, 0, 0.3));\n",
              "      fill: #FFFFFF;\n",
              "    }\n",
              "  </style>\n",
              "\n",
              "      <script>\n",
              "        const buttonEl =\n",
              "          document.querySelector('#df-5ebb2d32-094a-4497-bdfa-a4b225c2503f button.colab-df-convert');\n",
              "        buttonEl.style.display =\n",
              "          google.colab.kernel.accessAllowed ? 'block' : 'none';\n",
              "\n",
              "        async function convertToInteractive(key) {\n",
              "          const element = document.querySelector('#df-5ebb2d32-094a-4497-bdfa-a4b225c2503f');\n",
              "          const dataTable =\n",
              "            await google.colab.kernel.invokeFunction('convertToInteractive',\n",
              "                                                     [key], {});\n",
              "          if (!dataTable) return;\n",
              "\n",
              "          const docLinkHtml = 'Like what you see? Visit the ' +\n",
              "            '<a target=\"_blank\" href=https://colab.research.google.com/notebooks/data_table.ipynb>data table notebook</a>'\n",
              "            + ' to learn more about interactive tables.';\n",
              "          element.innerHTML = '';\n",
              "          dataTable['output_type'] = 'display_data';\n",
              "          await google.colab.output.renderOutput(dataTable, element);\n",
              "          const docLink = document.createElement('div');\n",
              "          docLink.innerHTML = docLinkHtml;\n",
              "          element.appendChild(docLink);\n",
              "        }\n",
              "      </script>\n",
              "    </div>\n",
              "  </div>\n",
              "  "
            ]
          },
          "metadata": {},
          "execution_count": 58
        }
      ],
      "source": [
        "#Active usage in a day over a week\n",
        "#show using heatmap\n",
        "active_usage = df.groupby(['hours','day-name'])[\"artistName\"].size().reset_index()\n",
        "active_usage_pivot = active_usage.pivot(\"hours\", 'day-name', 'artistName')\n",
        "active_usage_pivot.head()"
      ]
    },
    {
      "cell_type": "code",
      "execution_count": null,
      "id": "dc4fe3f5",
      "metadata": {
        "colab": {
          "base_uri": "https://localhost:8080/",
          "height": 737
        },
        "id": "dc4fe3f5",
        "outputId": "f5d26d5a-a332-41ec-ff4b-d5af624c077d"
      },
      "outputs": [
        {
          "output_type": "display_data",
          "data": {
            "text/plain": [
              "<Figure size 1080x864 with 2 Axes>"
            ],
            "image/png": "[encoded data removed]"
          },
          "metadata": {
            "needs_background": "light"
          }
        }
      ],
      "source": [
        "days = [\"Monday\", 'Tuesday', \"Wednesday\", \"Thursday\", \"Friday\", \"Saturday\", \"Sunday\"]\n",
        "\n",
        "fig, ax = plt.subplots(figsize=(15,12))\n",
        "ax.set(title=\"Heat Map of Spotify Usage\", xlabel=\"Days of the Week\",ylabel=\"Time(in 24 hrs format)\");\n",
        "ax = sns.heatmap(active_usage_pivot[days].fillna(0), robust=True, cmap=\"Blues\", ax = ax);"
      ]
    },
    {
      "cell_type": "code",
      "execution_count": null,
      "id": "29ac23b4",
      "metadata": {
        "colab": {
          "base_uri": "https://localhost:8080/",
          "height": 417
        },
        "id": "29ac23b4",
        "outputId": "b7b0d15b-9318-42ad-c9c3-c57962fcf103"
      },
      "outputs": [
        {
          "output_type": "display_data",
          "data": {
            "text/plain": [
              "<Figure size 432x360 with 1 Axes>"
            ],
            "image/png": "[encoded data removed]"
          },
          "metadata": {
            "needs_background": "light"
          }
        }
      ],
      "source": [
        "#variation over a week\n",
        "fig, ax = plt.subplots(figsize=(6,5))\n",
        "ax.set(title=\"Average Spotify Usage over Week\",xlabel=\"Days of the Week\",ylabel=\"Counts of Songs Played\");\n",
        "\n",
        "ax = sns.countplot(x=df[\"day-name\"],ax=ax)\n",
        "plt.xticks(rotation=75);"
      ]
    },
    {
      "cell_type": "code",
      "execution_count": null,
      "id": "dc32631e",
      "metadata": {
        "colab": {
          "base_uri": "https://localhost:8080/",
          "height": 143
        },
        "id": "dc32631e",
        "outputId": "de54eeab-3a4c-452c-e61b-0e8dd1ab8b4d"
      },
      "outputs": [
        {
          "output_type": "execute_result",
          "data": {
            "text/plain": [
              "            Count\n",
              "is_weekend       \n",
              "False       31288\n",
              "True        12052"
            ],
            "text/html": [
              "\n",
              "  <div id=\"df-8f2958cc-af40-491d-81ea-e67c226c7638\">\n",
              "    <div class=\"colab-df-container\">\n",
              "      <div>\n",
              "<style scoped>\n",
              "    .dataframe tbody tr th:only-of-type {\n",
              "        vertical-align: middle;\n",
              "    }\n",
              "\n",
              "    .dataframe tbody tr th {\n",
              "        vertical-align: top;\n",
              "    }\n",
              "\n",
              "    .dataframe thead th {\n",
              "        text-align: right;\n",
              "    }\n",
              "</style>\n",
              "<table border=\"1\" class=\"dataframe\">\n",
              "  <thead>\n",
              "    <tr style=\"text-align: right;\">\n",
              "      <th></th>\n",
              "      <th>Count</th>\n",
              "    </tr>\n",
              "    <tr>\n",
              "      <th>is_weekend</th>\n",
              "      <th></th>\n",
              "    </tr>\n",
              "  </thead>\n",
              "  <tbody>\n",
              "    <tr>\n",
              "      <th>False</th>\n",
              "      <td>31288</td>\n",
              "    </tr>\n",
              "    <tr>\n",
              "      <th>True</th>\n",
              "      <td>12052</td>\n",
              "    </tr>\n",
              "  </tbody>\n",
              "</table>\n",
              "</div>\n",
              "      <button class=\"colab-df-convert\" onclick=\"convertToInteractive('df-8f2958cc-af40-491d-81ea-e67c226c7638')\"\n",
              "              title=\"Convert this dataframe to an interactive table.\"\n",
              "              style=\"display:none;\">\n",
              "        \n",
              "  <svg xmlns=\"http://www.w3.org/2000/svg\" height=\"24px\"viewBox=\"0 0 24 24\"\n",
              "       width=\"24px\">\n",
              "    <path d=\"M0 0h24v24H0V0z\" fill=\"none\"/>\n",
              "    <path d=\"M18.56 5.44l.94 2.06.94-2.06 2.06-.94-2.06-.94-.94-2.06-.94 2.06-2.06.94zm-11 1L8.5 8.5l.94-2.06 2.06-.94-2.06-.94L8.5 2.5l-.94 2.06-2.06.94zm10 10l.94 2.06.94-2.06 2.06-.94-2.06-.94-.94-2.06-.94 2.06-2.06.94z\"/><path d=\"M17.41 7.96l-1.37-1.37c-.4-.4-.92-.59-1.43-.59-.52 0-1.04.2-1.43.59L10.3 9.45l-7.72 7.72c-.78.78-.78 2.05 0 2.83L4 21.41c.39.39.9.59 1.41.59.51 0 1.02-.2 1.41-.59l7.78-7.78 2.81-2.81c.8-.78.8-2.07 0-2.86zM5.41 20L4 18.59l7.72-7.72 1.47 1.35L5.41 20z\"/>\n",
              "  </svg>\n",
              "      </button>\n",
              "      \n",
              "  <style>\n",
              "    .colab-df-container {\n",
              "      display:flex;\n",
              "      flex-wrap:wrap;\n",
              "      gap: 12px;\n",
              "    }\n",
              "\n",
              "    .colab-df-convert {\n",
              "      background-color: #E8F0FE;\n",
              "      border: none;\n",
              "      border-radius: 50%;\n",
              "      cursor: pointer;\n",
              "      display: none;\n",
              "      fill: #1967D2;\n",
              "      height: 32px;\n",
              "      padding: 0 0 0 0;\n",
              "      width: 32px;\n",
              "    }\n",
              "\n",
              "    .colab-df-convert:hover {\n",
              "      background-color: #E2EBFA;\n",
              "      box-shadow: 0px 1px 2px rgba(60, 64, 67, 0.3), 0px 1px 3px 1px rgba(60, 64, 67, 0.15);\n",
              "      fill: #174EA6;\n",
              "    }\n",
              "\n",
              "    [theme=dark] .colab-df-convert {\n",
              "      background-color: #3B4455;\n",
              "      fill: #D2E3FC;\n",
              "    }\n",
              "\n",
              "    [theme=dark] .colab-df-convert:hover {\n",
              "      background-color: #434B5C;\n",
              "      box-shadow: 0px 1px 3px 1px rgba(0, 0, 0, 0.15);\n",
              "      filter: drop-shadow(0px 1px 2px rgba(0, 0, 0, 0.3));\n",
              "      fill: #FFFFFF;\n",
              "    }\n",
              "  </style>\n",
              "\n",
              "      <script>\n",
              "        const buttonEl =\n",
              "          document.querySelector('#df-8f2958cc-af40-491d-81ea-e67c226c7638 button.colab-df-convert');\n",
              "        buttonEl.style.display =\n",
              "          google.colab.kernel.accessAllowed ? 'block' : 'none';\n",
              "\n",
              "        async function convertToInteractive(key) {\n",
              "          const element = document.querySelector('#df-8f2958cc-af40-491d-81ea-e67c226c7638');\n",
              "          const dataTable =\n",
              "            await google.colab.kernel.invokeFunction('convertToInteractive',\n",
              "                                                     [key], {});\n",
              "          if (!dataTable) return;\n",
              "\n",
              "          const docLinkHtml = 'Like what you see? Visit the ' +\n",
              "            '<a target=\"_blank\" href=https://colab.research.google.com/notebooks/data_table.ipynb>data table notebook</a>'\n",
              "            + ' to learn more about interactive tables.';\n",
              "          element.innerHTML = '';\n",
              "          dataTable['output_type'] = 'display_data';\n",
              "          await google.colab.output.renderOutput(dataTable, element);\n",
              "          const docLink = document.createElement('div');\n",
              "          docLink.innerHTML = docLinkHtml;\n",
              "          element.appendChild(docLink);\n",
              "        }\n",
              "      </script>\n",
              "    </div>\n",
              "  </div>\n",
              "  "
            ]
          },
          "metadata": {},
          "execution_count": 61
        }
      ],
      "source": [
        "extra_df = df.copy()\n",
        "extra_df['is_weekend'] = extra_df[\"day-name\"].isin(['Sunday','Saturday'])\n",
        "weekday_vs_weekend = extra_df.groupby(['is_weekend'])[['Count']].sum()\n",
        "weekday_vs_weekend"
      ]
    },
    {
      "cell_type": "code",
      "execution_count": null,
      "id": "fd19190d",
      "metadata": {
        "colab": {
          "base_uri": "https://localhost:8080/",
          "height": 143
        },
        "id": "fd19190d",
        "outputId": "ff7fa4b6-93ea-4965-a6c0-f5e36090f4b0"
      },
      "outputs": [
        {
          "output_type": "execute_result",
          "data": {
            "text/plain": [
              "            Count  Percentage\n",
              "is_weekend                   \n",
              "False       31288    72.19197\n",
              "True        12052    27.80803"
            ],
            "text/html": [
              "\n",
              "  <div id=\"df-adfdca19-c6a7-4094-bc7a-3c4c2f5ab1b6\">\n",
              "    <div class=\"colab-df-container\">\n",
              "      <div>\n",
              "<style scoped>\n",
              "    .dataframe tbody tr th:only-of-type {\n",
              "        vertical-align: middle;\n",
              "    }\n",
              "\n",
              "    .dataframe tbody tr th {\n",
              "        vertical-align: top;\n",
              "    }\n",
              "\n",
              "    .dataframe thead th {\n",
              "        text-align: right;\n",
              "    }\n",
              "</style>\n",
              "<table border=\"1\" class=\"dataframe\">\n",
              "  <thead>\n",
              "    <tr style=\"text-align: right;\">\n",
              "      <th></th>\n",
              "      <th>Count</th>\n",
              "      <th>Percentage</th>\n",
              "    </tr>\n",
              "    <tr>\n",
              "      <th>is_weekend</th>\n",
              "      <th></th>\n",
              "      <th></th>\n",
              "    </tr>\n",
              "  </thead>\n",
              "  <tbody>\n",
              "    <tr>\n",
              "      <th>False</th>\n",
              "      <td>31288</td>\n",
              "      <td>72.19197</td>\n",
              "    </tr>\n",
              "    <tr>\n",
              "      <th>True</th>\n",
              "      <td>12052</td>\n",
              "      <td>27.80803</td>\n",
              "    </tr>\n",
              "  </tbody>\n",
              "</table>\n",
              "</div>\n",
              "      <button class=\"colab-df-convert\" onclick=\"convertToInteractive('df-adfdca19-c6a7-4094-bc7a-3c4c2f5ab1b6')\"\n",
              "              title=\"Convert this dataframe to an interactive table.\"\n",
              "              style=\"display:none;\">\n",
              "        \n",
              "  <svg xmlns=\"http://www.w3.org/2000/svg\" height=\"24px\"viewBox=\"0 0 24 24\"\n",
              "       width=\"24px\">\n",
              "    <path d=\"M0 0h24v24H0V0z\" fill=\"none\"/>\n",
              "    <path d=\"M18.56 5.44l.94 2.06.94-2.06 2.06-.94-2.06-.94-.94-2.06-.94 2.06-2.06.94zm-11 1L8.5 8.5l.94-2.06 2.06-.94-2.06-.94L8.5 2.5l-.94 2.06-2.06.94zm10 10l.94 2.06.94-2.06 2.06-.94-2.06-.94-.94-2.06-.94 2.06-2.06.94z\"/><path d=\"M17.41 7.96l-1.37-1.37c-.4-.4-.92-.59-1.43-.59-.52 0-1.04.2-1.43.59L10.3 9.45l-7.72 7.72c-.78.78-.78 2.05 0 2.83L4 21.41c.39.39.9.59 1.41.59.51 0 1.02-.2 1.41-.59l7.78-7.78 2.81-2.81c.8-.78.8-2.07 0-2.86zM5.41 20L4 18.59l7.72-7.72 1.47 1.35L5.41 20z\"/>\n",
              "  </svg>\n",
              "      </button>\n",
              "      \n",
              "  <style>\n",
              "    .colab-df-container {\n",
              "      display:flex;\n",
              "      flex-wrap:wrap;\n",
              "      gap: 12px;\n",
              "    }\n",
              "\n",
              "    .colab-df-convert {\n",
              "      background-color: #E8F0FE;\n",
              "      border: none;\n",
              "      border-radius: 50%;\n",
              "      cursor: pointer;\n",
              "      display: none;\n",
              "      fill: #1967D2;\n",
              "      height: 32px;\n",
              "      padding: 0 0 0 0;\n",
              "      width: 32px;\n",
              "    }\n",
              "\n",
              "    .colab-df-convert:hover {\n",
              "      background-color: #E2EBFA;\n",
              "      box-shadow: 0px 1px 2px rgba(60, 64, 67, 0.3), 0px 1px 3px 1px rgba(60, 64, 67, 0.15);\n",
              "      fill: #174EA6;\n",
              "    }\n",
              "\n",
              "    [theme=dark] .colab-df-convert {\n",
              "      background-color: #3B4455;\n",
              "      fill: #D2E3FC;\n",
              "    }\n",
              "\n",
              "    [theme=dark] .colab-df-convert:hover {\n",
              "      background-color: #434B5C;\n",
              "      box-shadow: 0px 1px 3px 1px rgba(0, 0, 0, 0.15);\n",
              "      filter: drop-shadow(0px 1px 2px rgba(0, 0, 0, 0.3));\n",
              "      fill: #FFFFFF;\n",
              "    }\n",
              "  </style>\n",
              "\n",
              "      <script>\n",
              "        const buttonEl =\n",
              "          document.querySelector('#df-adfdca19-c6a7-4094-bc7a-3c4c2f5ab1b6 button.colab-df-convert');\n",
              "        buttonEl.style.display =\n",
              "          google.colab.kernel.accessAllowed ? 'block' : 'none';\n",
              "\n",
              "        async function convertToInteractive(key) {\n",
              "          const element = document.querySelector('#df-adfdca19-c6a7-4094-bc7a-3c4c2f5ab1b6');\n",
              "          const dataTable =\n",
              "            await google.colab.kernel.invokeFunction('convertToInteractive',\n",
              "                                                     [key], {});\n",
              "          if (!dataTable) return;\n",
              "\n",
              "          const docLinkHtml = 'Like what you see? Visit the ' +\n",
              "            '<a target=\"_blank\" href=https://colab.research.google.com/notebooks/data_table.ipynb>data table notebook</a>'\n",
              "            + ' to learn more about interactive tables.';\n",
              "          element.innerHTML = '';\n",
              "          dataTable['output_type'] = 'display_data';\n",
              "          await google.colab.output.renderOutput(dataTable, element);\n",
              "          const docLink = document.createElement('div');\n",
              "          docLink.innerHTML = docLinkHtml;\n",
              "          element.appendChild(docLink);\n",
              "        }\n",
              "      </script>\n",
              "    </div>\n",
              "  </div>\n",
              "  "
            ]
          },
          "metadata": {},
          "execution_count": 62
        }
      ],
      "source": [
        "weekday_vs_weekend[\"Percentage\"] = weekday_vs_weekend[\"Count\"]/weekday_vs_weekend[\"Count\"].sum()*100\n",
        "weekday_vs_weekend"
      ]
    },
    {
      "cell_type": "code",
      "execution_count": null,
      "id": "e7cecc6e",
      "metadata": {
        "colab": {
          "base_uri": "https://localhost:8080/",
          "height": 302
        },
        "id": "e7cecc6e",
        "outputId": "b1e6d0d5-f6c9-4fe6-9bcf-45493ed8d993"
      },
      "outputs": [
        {
          "output_type": "display_data",
          "data": {
            "text/plain": [
              "<Figure size 432x288 with 2 Axes>"
            ],
            "image/png": "[encoded data removed]"
          },
          "metadata": {
            "needs_background": "light"
          }
        }
      ],
      "source": [
        "fig, (ax1,ax2) = plt.subplots(1,2,figsize=(6,4))\n",
        "ax1 = sns.barplot(x=[\"False\",\"True\"],y=\"Count\",data=weekday_vs_weekend,ax=ax1)\n",
        "ax1.set(title=\"Weekday vs Weekend\",xlabel=\"Is it Weekend\",ylabel=\"Counts of Songs Played\");\n",
        "\n",
        "ax2 = sns.barplot(x=[\"False\",\"True\"],y=\"Percentage\",data=weekday_vs_weekend,color=\"Olive\",ax=ax2)\n",
        "ax2.set(title=\"Weekday vs Weekend (Percentage)\",xlabel=\"Is it Weekend\",ylabel=\"Percentage of Songs Played\");"
      ]
    },
    {
      "cell_type": "code",
      "execution_count": null,
      "id": "f8f60f40",
      "metadata": {
        "id": "f8f60f40"
      },
      "outputs": [],
      "source": [
        "#import jovian\n",
        "#jovian.commit(file=[\"spotify_data.csv\",\"StreamingHistory0.json\",\"StreamingHistory1.json\",\"StreamingHistory2.json\",\"StreamingHistory3.json\",\"StreamingHistory4.json\"])"
      ]
    },
    {
      "cell_type": "code",
      "execution_count": null,
      "id": "453c7a46",
      "metadata": {
        "id": "453c7a46"
      },
      "outputs": [],
      "source": [
        ""
      ]
    }
  ],
  "metadata": {
    "kernelspec": {
      "display_name": "Python 3",
      "language": "python",
      "name": "python3"
    },
    "language_info": {
      "codemirror_mode": {
        "name": "ipython",
        "version": 3
      },
      "file_extension": ".py",
      "mimetype": "text/x-python",
      "name": "python",
      "nbconvert_exporter": "python",
      "pygments_lexer": "ipython3",
      "version": "3.8.8"
    },
    "colab": {
      "name": "Spotify.ipynb",
      "provenance": [],
      "collapsed_sections": []
    }
  },
  "nbformat": 4,
  "nbformat_minor": 5
}